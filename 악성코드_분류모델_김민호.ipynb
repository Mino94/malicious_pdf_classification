{
  "nbformat": 4,
  "nbformat_minor": 0,
  "metadata": {
    "colab": {
      "name": "악성코드 분류모델_김민호.ipynb",
      "provenance": [],
      "collapsed_sections": [],
      "machine_shape": "hm",
      "authorship_tag": "ABX9TyNliPUC9MT1wnRAjtHVeyIk",
      "include_colab_link": true
    },
    "kernelspec": {
      "name": "python3",
      "display_name": "Python 3"
    },
    "language_info": {
      "name": "python"
    },
    "accelerator": "GPU"
  },
  "cells": [
    {
      "cell_type": "markdown",
      "metadata": {
        "id": "view-in-github",
        "colab_type": "text"
      },
      "source": [
        "<a href=\"https://colab.research.google.com/github/Mino94/malicious_pdf_classification/blob/main/%EC%95%85%EC%84%B1%EC%BD%94%EB%93%9C_%EB%B6%84%EB%A5%98%EB%AA%A8%EB%8D%B8_%EA%B9%80%EB%AF%BC%ED%98%B8.ipynb\" target=\"_parent\"><img src=\"https://colab.research.google.com/assets/colab-badge.svg\" alt=\"Open In Colab\"/></a>"
      ]
    },
    {
      "cell_type": "code",
      "metadata": {
        "colab": {
          "base_uri": "https://localhost:8080/"
        },
        "id": "AA1HhfO6RHPt",
        "outputId": "699cab34-c46c-4a76-aa82-c39ac1ac5555"
      },
      "source": [
        "from google.colab import drive\n",
        "\n",
        "drive.mount('/content/gdrive/')\n"
      ],
      "execution_count": 106,
      "outputs": [
        {
          "output_type": "stream",
          "text": [
            "Drive already mounted at /content/gdrive/; to attempt to forcibly remount, call drive.mount(\"/content/gdrive/\", force_remount=True).\n"
          ],
          "name": "stdout"
        }
      ]
    },
    {
      "cell_type": "code",
      "metadata": {
        "colab": {
          "base_uri": "https://localhost:8080/"
        },
        "id": "gYE_Y0IWR_ef",
        "outputId": "610fcb12-9ef8-449b-8a75-25a616bcb41d"
      },
      "source": [
        "%cd /content/gdrive/MyDrive/data"
      ],
      "execution_count": 107,
      "outputs": [
        {
          "output_type": "stream",
          "text": [
            "/content/gdrive/MyDrive/data\n"
          ],
          "name": "stdout"
        }
      ]
    },
    {
      "cell_type": "code",
      "metadata": {
        "colab": {
          "base_uri": "https://localhost:8080/",
          "height": 35
        },
        "id": "s9EIrY6FR_YF",
        "outputId": "03dd4a1f-0a56-45d3-8772-45eaa025f8b1"
      },
      "source": [
        "%pwd"
      ],
      "execution_count": 108,
      "outputs": [
        {
          "output_type": "execute_result",
          "data": {
            "application/vnd.google.colaboratory.intrinsic+json": {
              "type": "string"
            },
            "text/plain": [
              "'/content/gdrive/MyDrive/data'"
            ]
          },
          "metadata": {
            "tags": []
          },
          "execution_count": 108
        }
      ]
    },
    {
      "cell_type": "code",
      "metadata": {
        "id": "jXY6KwIHSLco"
      },
      "source": [
        "# !unzip -P \"infected\" \"pdf_sample.zip\""
      ],
      "execution_count": 109,
      "outputs": []
    },
    {
      "cell_type": "code",
      "metadata": {
        "colab": {
          "base_uri": "https://localhost:8080/"
        },
        "id": "B7hkwa_kxEs_",
        "outputId": "308d4228-9986-4147-f4b1-9547276d597f"
      },
      "source": [
        "!ls"
      ],
      "execution_count": 110,
      "outputs": [
        {
          "output_type": "stream",
          "text": [
            "final_pdf_parsing_success.csv  pdf_parsing_success2.csv  pdf_sample.zip\n",
            "model_data_set.csv\t       pdf_parsing_success3.csv  pdf_title2.csv\n",
            "pdf_benign_6667.csv\t       pdf_parsing_success.csv\t pdf_title.csv\n",
            "pdfid\t\t\t       pdf_samples\t\t pdf_title_success.csv\n",
            "pdf_malicious_2899.csv\t       pdf_samples_info.csv\t target-directory\n"
          ],
          "name": "stdout"
        }
      ]
    },
    {
      "cell_type": "code",
      "metadata": {
        "id": "l7N9Jl7HUS-f"
      },
      "source": [
        ""
      ],
      "execution_count": 110,
      "outputs": []
    },
    {
      "cell_type": "markdown",
      "metadata": {
        "id": "24b1qFhEUEHX"
      },
      "source": [
        "# 데이터 불러오기"
      ]
    },
    {
      "cell_type": "markdown",
      "metadata": {
        "id": "ZK00rCzyYo-9"
      },
      "source": [
        "## pdf parsing csv 파일"
      ]
    },
    {
      "cell_type": "code",
      "metadata": {
        "colab": {
          "base_uri": "https://localhost:8080/",
          "height": 456
        },
        "id": "_RNxWYXjUDft",
        "outputId": "2890d392-a5ec-4f8e-b906-65ace335e16e"
      },
      "source": [
        "import pandas as pd\n",
        "\n",
        "df = pd.read_csv('./final_pdf_parsing_success.csv')\n",
        "\n",
        "df"
      ],
      "execution_count": 111,
      "outputs": [
        {
          "output_type": "execute_result",
          "data": {
            "text/html": [
              "<div>\n",
              "<style scoped>\n",
              "    .dataframe tbody tr th:only-of-type {\n",
              "        vertical-align: middle;\n",
              "    }\n",
              "\n",
              "    .dataframe tbody tr th {\n",
              "        vertical-align: top;\n",
              "    }\n",
              "\n",
              "    .dataframe thead th {\n",
              "        text-align: right;\n",
              "    }\n",
              "</style>\n",
              "<table border=\"1\" class=\"dataframe\">\n",
              "  <thead>\n",
              "    <tr style=\"text-align: right;\">\n",
              "      <th></th>\n",
              "      <th>Unnamed: 0</th>\n",
              "      <th>sha256</th>\n",
              "      <th>obj</th>\n",
              "      <th>endobj</th>\n",
              "      <th>stream</th>\n",
              "      <th>endstream</th>\n",
              "      <th>xref</th>\n",
              "      <th>trailer</th>\n",
              "      <th>startxref</th>\n",
              "      <th>/Page</th>\n",
              "      <th>/Encrypt</th>\n",
              "      <th>/ObjStm</th>\n",
              "      <th>/JS</th>\n",
              "      <th>/JavaScript</th>\n",
              "      <th>/AA</th>\n",
              "      <th>/OpenAction</th>\n",
              "      <th>/AcroForm</th>\n",
              "      <th>/JBIG2Decode</th>\n",
              "      <th>/RichMedia</th>\n",
              "      <th>/Launch</th>\n",
              "      <th>/EmbeddedFile</th>\n",
              "      <th>/XFA</th>\n",
              "      <th>/Colors &gt; 2^24</th>\n",
              "    </tr>\n",
              "  </thead>\n",
              "  <tbody>\n",
              "    <tr>\n",
              "      <th>0</th>\n",
              "      <td>0</td>\n",
              "      <td>8b7494a8141da134442238a8a19c27a10dbe5cf3e01ca4...</td>\n",
              "      <td>104</td>\n",
              "      <td>104</td>\n",
              "      <td>81</td>\n",
              "      <td>81</td>\n",
              "      <td>0</td>\n",
              "      <td>0</td>\n",
              "      <td>2</td>\n",
              "      <td>20</td>\n",
              "      <td>2</td>\n",
              "      <td>7</td>\n",
              "      <td>0</td>\n",
              "      <td>0</td>\n",
              "      <td>0</td>\n",
              "      <td>0</td>\n",
              "      <td>0</td>\n",
              "      <td>0</td>\n",
              "      <td>0</td>\n",
              "      <td>0</td>\n",
              "      <td>0</td>\n",
              "      <td>0</td>\n",
              "      <td>0</td>\n",
              "    </tr>\n",
              "    <tr>\n",
              "      <th>1</th>\n",
              "      <td>1</td>\n",
              "      <td>8b45878de057a5773d3da8185eb5386b48350a4764745e...</td>\n",
              "      <td>62</td>\n",
              "      <td>62</td>\n",
              "      <td>19</td>\n",
              "      <td>19</td>\n",
              "      <td>2</td>\n",
              "      <td>2</td>\n",
              "      <td>2</td>\n",
              "      <td>10</td>\n",
              "      <td>0</td>\n",
              "      <td>1</td>\n",
              "      <td>0</td>\n",
              "      <td>0</td>\n",
              "      <td>0</td>\n",
              "      <td>0</td>\n",
              "      <td>0</td>\n",
              "      <td>0</td>\n",
              "      <td>0</td>\n",
              "      <td>0</td>\n",
              "      <td>0</td>\n",
              "      <td>0</td>\n",
              "      <td>0</td>\n",
              "    </tr>\n",
              "    <tr>\n",
              "      <th>2</th>\n",
              "      <td>2</td>\n",
              "      <td>8b214cdae470d068a8e9116f1a39f3b9dadc1a365de21b...</td>\n",
              "      <td>104</td>\n",
              "      <td>104</td>\n",
              "      <td>93</td>\n",
              "      <td>93</td>\n",
              "      <td>0</td>\n",
              "      <td>0</td>\n",
              "      <td>3</td>\n",
              "      <td>8</td>\n",
              "      <td>0</td>\n",
              "      <td>10</td>\n",
              "      <td>0</td>\n",
              "      <td>0</td>\n",
              "      <td>0</td>\n",
              "      <td>0</td>\n",
              "      <td>0</td>\n",
              "      <td>0</td>\n",
              "      <td>0</td>\n",
              "      <td>0</td>\n",
              "      <td>0</td>\n",
              "      <td>0</td>\n",
              "      <td>0</td>\n",
              "    </tr>\n",
              "    <tr>\n",
              "      <th>3</th>\n",
              "      <td>3</td>\n",
              "      <td>8b75c04d69844d1d2dd4eaaf095156a81ae3d69304995e...</td>\n",
              "      <td>31</td>\n",
              "      <td>31</td>\n",
              "      <td>9</td>\n",
              "      <td>9</td>\n",
              "      <td>1</td>\n",
              "      <td>1</td>\n",
              "      <td>1</td>\n",
              "      <td>3</td>\n",
              "      <td>0</td>\n",
              "      <td>0</td>\n",
              "      <td>0</td>\n",
              "      <td>0</td>\n",
              "      <td>0</td>\n",
              "      <td>0</td>\n",
              "      <td>0</td>\n",
              "      <td>0</td>\n",
              "      <td>0</td>\n",
              "      <td>0</td>\n",
              "      <td>0</td>\n",
              "      <td>0</td>\n",
              "      <td>0</td>\n",
              "    </tr>\n",
              "    <tr>\n",
              "      <th>4</th>\n",
              "      <td>4</td>\n",
              "      <td>8b7f5d4b85ac2708678b07413059a839e926105736c466...</td>\n",
              "      <td>78</td>\n",
              "      <td>78</td>\n",
              "      <td>74</td>\n",
              "      <td>74</td>\n",
              "      <td>0</td>\n",
              "      <td>0</td>\n",
              "      <td>1</td>\n",
              "      <td>0</td>\n",
              "      <td>1</td>\n",
              "      <td>21</td>\n",
              "      <td>0</td>\n",
              "      <td>0</td>\n",
              "      <td>0</td>\n",
              "      <td>1</td>\n",
              "      <td>0</td>\n",
              "      <td>0</td>\n",
              "      <td>0</td>\n",
              "      <td>0</td>\n",
              "      <td>0</td>\n",
              "      <td>0</td>\n",
              "      <td>0</td>\n",
              "    </tr>\n",
              "    <tr>\n",
              "      <th>...</th>\n",
              "      <td>...</td>\n",
              "      <td>...</td>\n",
              "      <td>...</td>\n",
              "      <td>...</td>\n",
              "      <td>...</td>\n",
              "      <td>...</td>\n",
              "      <td>...</td>\n",
              "      <td>...</td>\n",
              "      <td>...</td>\n",
              "      <td>...</td>\n",
              "      <td>...</td>\n",
              "      <td>...</td>\n",
              "      <td>...</td>\n",
              "      <td>...</td>\n",
              "      <td>...</td>\n",
              "      <td>...</td>\n",
              "      <td>...</td>\n",
              "      <td>...</td>\n",
              "      <td>...</td>\n",
              "      <td>...</td>\n",
              "      <td>...</td>\n",
              "      <td>...</td>\n",
              "      <td>...</td>\n",
              "    </tr>\n",
              "    <tr>\n",
              "      <th>10609</th>\n",
              "      <td>10609</td>\n",
              "      <td>2bc5e646bfd609b0073a3be8a75a8ed42140296a10626a...</td>\n",
              "      <td>52</td>\n",
              "      <td>52</td>\n",
              "      <td>8</td>\n",
              "      <td>8</td>\n",
              "      <td>2</td>\n",
              "      <td>2</td>\n",
              "      <td>2</td>\n",
              "      <td>2</td>\n",
              "      <td>0</td>\n",
              "      <td>0</td>\n",
              "      <td>0</td>\n",
              "      <td>0</td>\n",
              "      <td>0</td>\n",
              "      <td>0</td>\n",
              "      <td>0</td>\n",
              "      <td>0</td>\n",
              "      <td>0</td>\n",
              "      <td>0</td>\n",
              "      <td>0</td>\n",
              "      <td>0</td>\n",
              "      <td>0</td>\n",
              "    </tr>\n",
              "    <tr>\n",
              "      <th>10610</th>\n",
              "      <td>10610</td>\n",
              "      <td>3a1ccab34d9dd91f542db38ac757cc7ec183ea4295d858...</td>\n",
              "      <td>49</td>\n",
              "      <td>49</td>\n",
              "      <td>8</td>\n",
              "      <td>8</td>\n",
              "      <td>2</td>\n",
              "      <td>2</td>\n",
              "      <td>2</td>\n",
              "      <td>2</td>\n",
              "      <td>0</td>\n",
              "      <td>0</td>\n",
              "      <td>0</td>\n",
              "      <td>0</td>\n",
              "      <td>0</td>\n",
              "      <td>0</td>\n",
              "      <td>0</td>\n",
              "      <td>0</td>\n",
              "      <td>0</td>\n",
              "      <td>0</td>\n",
              "      <td>0</td>\n",
              "      <td>0</td>\n",
              "      <td>0</td>\n",
              "    </tr>\n",
              "    <tr>\n",
              "      <th>10611</th>\n",
              "      <td>10611</td>\n",
              "      <td>3af0755a954285ceb45a87c8068b7a694980190fb718d7...</td>\n",
              "      <td>53</td>\n",
              "      <td>53</td>\n",
              "      <td>8</td>\n",
              "      <td>8</td>\n",
              "      <td>2</td>\n",
              "      <td>2</td>\n",
              "      <td>2</td>\n",
              "      <td>2</td>\n",
              "      <td>0</td>\n",
              "      <td>0</td>\n",
              "      <td>0</td>\n",
              "      <td>0</td>\n",
              "      <td>0</td>\n",
              "      <td>0</td>\n",
              "      <td>0</td>\n",
              "      <td>0</td>\n",
              "      <td>0</td>\n",
              "      <td>0</td>\n",
              "      <td>0</td>\n",
              "      <td>0</td>\n",
              "      <td>0</td>\n",
              "    </tr>\n",
              "    <tr>\n",
              "      <th>10612</th>\n",
              "      <td>10612</td>\n",
              "      <td>483b653c4f85219d169dbc49ae0d811e3b55dbe800a0dc...</td>\n",
              "      <td>53</td>\n",
              "      <td>53</td>\n",
              "      <td>10</td>\n",
              "      <td>10</td>\n",
              "      <td>2</td>\n",
              "      <td>2</td>\n",
              "      <td>2</td>\n",
              "      <td>2</td>\n",
              "      <td>0</td>\n",
              "      <td>0</td>\n",
              "      <td>0</td>\n",
              "      <td>0</td>\n",
              "      <td>0</td>\n",
              "      <td>0</td>\n",
              "      <td>0</td>\n",
              "      <td>0</td>\n",
              "      <td>0</td>\n",
              "      <td>0</td>\n",
              "      <td>0</td>\n",
              "      <td>0</td>\n",
              "      <td>0</td>\n",
              "    </tr>\n",
              "    <tr>\n",
              "      <th>10613</th>\n",
              "      <td>10613</td>\n",
              "      <td>45c6ecca84912eeaad0be639ad9607b63e8ef2fe0911f7...</td>\n",
              "      <td>53</td>\n",
              "      <td>53</td>\n",
              "      <td>8</td>\n",
              "      <td>8</td>\n",
              "      <td>2</td>\n",
              "      <td>2</td>\n",
              "      <td>2</td>\n",
              "      <td>2</td>\n",
              "      <td>0</td>\n",
              "      <td>0</td>\n",
              "      <td>0</td>\n",
              "      <td>0</td>\n",
              "      <td>0</td>\n",
              "      <td>0</td>\n",
              "      <td>0</td>\n",
              "      <td>0</td>\n",
              "      <td>0</td>\n",
              "      <td>0</td>\n",
              "      <td>0</td>\n",
              "      <td>0</td>\n",
              "      <td>0</td>\n",
              "    </tr>\n",
              "  </tbody>\n",
              "</table>\n",
              "<p>10614 rows × 23 columns</p>\n",
              "</div>"
            ],
            "text/plain": [
              "       Unnamed: 0  ... /Colors > 2^24\n",
              "0               0  ...              0\n",
              "1               1  ...              0\n",
              "2               2  ...              0\n",
              "3               3  ...              0\n",
              "4               4  ...              0\n",
              "...           ...  ...            ...\n",
              "10609       10609  ...              0\n",
              "10610       10610  ...              0\n",
              "10611       10611  ...              0\n",
              "10612       10612  ...              0\n",
              "10613       10613  ...              0\n",
              "\n",
              "[10614 rows x 23 columns]"
            ]
          },
          "metadata": {
            "tags": []
          },
          "execution_count": 111
        }
      ]
    },
    {
      "cell_type": "code",
      "metadata": {
        "id": "v87kjI4UUzSh"
      },
      "source": [
        "df= df.drop(['Unnamed: 0'], axis=1)"
      ],
      "execution_count": 112,
      "outputs": []
    },
    {
      "cell_type": "code",
      "metadata": {
        "colab": {
          "base_uri": "https://localhost:8080/",
          "height": 241
        },
        "id": "RGMov0feVJjU",
        "outputId": "f7aeabff-4549-4b84-cb13-4cc23cf022de"
      },
      "source": [
        "df.head()"
      ],
      "execution_count": 113,
      "outputs": [
        {
          "output_type": "execute_result",
          "data": {
            "text/html": [
              "<div>\n",
              "<style scoped>\n",
              "    .dataframe tbody tr th:only-of-type {\n",
              "        vertical-align: middle;\n",
              "    }\n",
              "\n",
              "    .dataframe tbody tr th {\n",
              "        vertical-align: top;\n",
              "    }\n",
              "\n",
              "    .dataframe thead th {\n",
              "        text-align: right;\n",
              "    }\n",
              "</style>\n",
              "<table border=\"1\" class=\"dataframe\">\n",
              "  <thead>\n",
              "    <tr style=\"text-align: right;\">\n",
              "      <th></th>\n",
              "      <th>sha256</th>\n",
              "      <th>obj</th>\n",
              "      <th>endobj</th>\n",
              "      <th>stream</th>\n",
              "      <th>endstream</th>\n",
              "      <th>xref</th>\n",
              "      <th>trailer</th>\n",
              "      <th>startxref</th>\n",
              "      <th>/Page</th>\n",
              "      <th>/Encrypt</th>\n",
              "      <th>/ObjStm</th>\n",
              "      <th>/JS</th>\n",
              "      <th>/JavaScript</th>\n",
              "      <th>/AA</th>\n",
              "      <th>/OpenAction</th>\n",
              "      <th>/AcroForm</th>\n",
              "      <th>/JBIG2Decode</th>\n",
              "      <th>/RichMedia</th>\n",
              "      <th>/Launch</th>\n",
              "      <th>/EmbeddedFile</th>\n",
              "      <th>/XFA</th>\n",
              "      <th>/Colors &gt; 2^24</th>\n",
              "    </tr>\n",
              "  </thead>\n",
              "  <tbody>\n",
              "    <tr>\n",
              "      <th>0</th>\n",
              "      <td>8b7494a8141da134442238a8a19c27a10dbe5cf3e01ca4...</td>\n",
              "      <td>104</td>\n",
              "      <td>104</td>\n",
              "      <td>81</td>\n",
              "      <td>81</td>\n",
              "      <td>0</td>\n",
              "      <td>0</td>\n",
              "      <td>2</td>\n",
              "      <td>20</td>\n",
              "      <td>2</td>\n",
              "      <td>7</td>\n",
              "      <td>0</td>\n",
              "      <td>0</td>\n",
              "      <td>0</td>\n",
              "      <td>0</td>\n",
              "      <td>0</td>\n",
              "      <td>0</td>\n",
              "      <td>0</td>\n",
              "      <td>0</td>\n",
              "      <td>0</td>\n",
              "      <td>0</td>\n",
              "      <td>0</td>\n",
              "    </tr>\n",
              "    <tr>\n",
              "      <th>1</th>\n",
              "      <td>8b45878de057a5773d3da8185eb5386b48350a4764745e...</td>\n",
              "      <td>62</td>\n",
              "      <td>62</td>\n",
              "      <td>19</td>\n",
              "      <td>19</td>\n",
              "      <td>2</td>\n",
              "      <td>2</td>\n",
              "      <td>2</td>\n",
              "      <td>10</td>\n",
              "      <td>0</td>\n",
              "      <td>1</td>\n",
              "      <td>0</td>\n",
              "      <td>0</td>\n",
              "      <td>0</td>\n",
              "      <td>0</td>\n",
              "      <td>0</td>\n",
              "      <td>0</td>\n",
              "      <td>0</td>\n",
              "      <td>0</td>\n",
              "      <td>0</td>\n",
              "      <td>0</td>\n",
              "      <td>0</td>\n",
              "    </tr>\n",
              "    <tr>\n",
              "      <th>2</th>\n",
              "      <td>8b214cdae470d068a8e9116f1a39f3b9dadc1a365de21b...</td>\n",
              "      <td>104</td>\n",
              "      <td>104</td>\n",
              "      <td>93</td>\n",
              "      <td>93</td>\n",
              "      <td>0</td>\n",
              "      <td>0</td>\n",
              "      <td>3</td>\n",
              "      <td>8</td>\n",
              "      <td>0</td>\n",
              "      <td>10</td>\n",
              "      <td>0</td>\n",
              "      <td>0</td>\n",
              "      <td>0</td>\n",
              "      <td>0</td>\n",
              "      <td>0</td>\n",
              "      <td>0</td>\n",
              "      <td>0</td>\n",
              "      <td>0</td>\n",
              "      <td>0</td>\n",
              "      <td>0</td>\n",
              "      <td>0</td>\n",
              "    </tr>\n",
              "    <tr>\n",
              "      <th>3</th>\n",
              "      <td>8b75c04d69844d1d2dd4eaaf095156a81ae3d69304995e...</td>\n",
              "      <td>31</td>\n",
              "      <td>31</td>\n",
              "      <td>9</td>\n",
              "      <td>9</td>\n",
              "      <td>1</td>\n",
              "      <td>1</td>\n",
              "      <td>1</td>\n",
              "      <td>3</td>\n",
              "      <td>0</td>\n",
              "      <td>0</td>\n",
              "      <td>0</td>\n",
              "      <td>0</td>\n",
              "      <td>0</td>\n",
              "      <td>0</td>\n",
              "      <td>0</td>\n",
              "      <td>0</td>\n",
              "      <td>0</td>\n",
              "      <td>0</td>\n",
              "      <td>0</td>\n",
              "      <td>0</td>\n",
              "      <td>0</td>\n",
              "    </tr>\n",
              "    <tr>\n",
              "      <th>4</th>\n",
              "      <td>8b7f5d4b85ac2708678b07413059a839e926105736c466...</td>\n",
              "      <td>78</td>\n",
              "      <td>78</td>\n",
              "      <td>74</td>\n",
              "      <td>74</td>\n",
              "      <td>0</td>\n",
              "      <td>0</td>\n",
              "      <td>1</td>\n",
              "      <td>0</td>\n",
              "      <td>1</td>\n",
              "      <td>21</td>\n",
              "      <td>0</td>\n",
              "      <td>0</td>\n",
              "      <td>0</td>\n",
              "      <td>1</td>\n",
              "      <td>0</td>\n",
              "      <td>0</td>\n",
              "      <td>0</td>\n",
              "      <td>0</td>\n",
              "      <td>0</td>\n",
              "      <td>0</td>\n",
              "      <td>0</td>\n",
              "    </tr>\n",
              "  </tbody>\n",
              "</table>\n",
              "</div>"
            ],
            "text/plain": [
              "                                              sha256  obj  ...  /XFA  /Colors > 2^24\n",
              "0  8b7494a8141da134442238a8a19c27a10dbe5cf3e01ca4...  104  ...     0               0\n",
              "1  8b45878de057a5773d3da8185eb5386b48350a4764745e...   62  ...     0               0\n",
              "2  8b214cdae470d068a8e9116f1a39f3b9dadc1a365de21b...  104  ...     0               0\n",
              "3  8b75c04d69844d1d2dd4eaaf095156a81ae3d69304995e...   31  ...     0               0\n",
              "4  8b7f5d4b85ac2708678b07413059a839e926105736c466...   78  ...     0               0\n",
              "\n",
              "[5 rows x 22 columns]"
            ]
          },
          "metadata": {
            "tags": []
          },
          "execution_count": 113
        }
      ]
    },
    {
      "cell_type": "code",
      "metadata": {
        "colab": {
          "base_uri": "https://localhost:8080/"
        },
        "id": "4YS7_1vMWwFJ",
        "outputId": "e23df02d-8d64-4cfc-f974-6a2be99c900a"
      },
      "source": [
        "!ls"
      ],
      "execution_count": 114,
      "outputs": [
        {
          "output_type": "stream",
          "text": [
            "final_pdf_parsing_success.csv  pdf_parsing_success2.csv  pdf_sample.zip\n",
            "model_data_set.csv\t       pdf_parsing_success3.csv  pdf_title2.csv\n",
            "pdf_benign_6667.csv\t       pdf_parsing_success.csv\t pdf_title.csv\n",
            "pdfid\t\t\t       pdf_samples\t\t pdf_title_success.csv\n",
            "pdf_malicious_2899.csv\t       pdf_samples_info.csv\t target-directory\n"
          ],
          "name": "stdout"
        }
      ]
    },
    {
      "cell_type": "markdown",
      "metadata": {
        "id": "XHQ4VQQ3Yfe3"
      },
      "source": [
        "## labeling 된 csv 파일"
      ]
    },
    {
      "cell_type": "code",
      "metadata": {
        "colab": {
          "base_uri": "https://localhost:8080/",
          "height": 343
        },
        "id": "GDmHY_OHVL8k",
        "outputId": "f4975dc6-bb53-4c06-cfd0-916cfe2b8129"
      },
      "source": [
        "benign_df = pd.read_csv('./pdf_benign_6667.csv')\n",
        "\n",
        "benign_df.head()"
      ],
      "execution_count": 115,
      "outputs": [
        {
          "output_type": "execute_result",
          "data": {
            "text/html": [
              "<div>\n",
              "<style scoped>\n",
              "    .dataframe tbody tr th:only-of-type {\n",
              "        vertical-align: middle;\n",
              "    }\n",
              "\n",
              "    .dataframe tbody tr th {\n",
              "        vertical-align: top;\n",
              "    }\n",
              "\n",
              "    .dataframe thead th {\n",
              "        text-align: right;\n",
              "    }\n",
              "</style>\n",
              "<table border=\"1\" class=\"dataframe\">\n",
              "  <thead>\n",
              "    <tr style=\"text-align: right;\">\n",
              "      <th></th>\n",
              "      <th>Unnamed: 0</th>\n",
              "      <th>filetype</th>\n",
              "      <th>vt_total</th>\n",
              "      <th>sha256</th>\n",
              "      <th>size</th>\n",
              "      <th>vt_cache</th>\n",
              "      <th>vt_positives</th>\n",
              "      <th>tags</th>\n",
              "    </tr>\n",
              "  </thead>\n",
              "  <tbody>\n",
              "    <tr>\n",
              "      <th>0</th>\n",
              "      <td>3430</td>\n",
              "      <td>pdf</td>\n",
              "      <td>63.0</td>\n",
              "      <td>472a39ef46ff037ed86998df89fb7b00cac49e8a3bab49...</td>\n",
              "      <td>1307522.0</td>\n",
              "      <td>1.0</td>\n",
              "      <td>0.0</td>\n",
              "      <td>2020.11.30, benign, vt</td>\n",
              "    </tr>\n",
              "    <tr>\n",
              "      <th>1</th>\n",
              "      <td>3431</td>\n",
              "      <td>pdf</td>\n",
              "      <td>62.0</td>\n",
              "      <td>47306b179b56917bbe328da41550f29ef24c18e7061708...</td>\n",
              "      <td>262373.0</td>\n",
              "      <td>1.0</td>\n",
              "      <td>0.0</td>\n",
              "      <td>2020.12.08, benign, vt</td>\n",
              "    </tr>\n",
              "    <tr>\n",
              "      <th>2</th>\n",
              "      <td>3436</td>\n",
              "      <td>pdf</td>\n",
              "      <td>59.0</td>\n",
              "      <td>486794494805a110736ee8f63d011ab275ca578f9d02c1...</td>\n",
              "      <td>265745.0</td>\n",
              "      <td>1.0</td>\n",
              "      <td>0.0</td>\n",
              "      <td>benign, vt, 2020.11.17</td>\n",
              "    </tr>\n",
              "    <tr>\n",
              "      <th>3</th>\n",
              "      <td>3445</td>\n",
              "      <td>pdf</td>\n",
              "      <td>61.0</td>\n",
              "      <td>4c34648efff32d0bb8a66ddb7e632b24b2588d4398d555...</td>\n",
              "      <td>9533230.0</td>\n",
              "      <td>1.0</td>\n",
              "      <td>0.0</td>\n",
              "      <td>benign, 2021.01.08, vt</td>\n",
              "    </tr>\n",
              "    <tr>\n",
              "      <th>4</th>\n",
              "      <td>3451</td>\n",
              "      <td>pdf</td>\n",
              "      <td>63.0</td>\n",
              "      <td>4f93591007cf9c081cc43c4baebb4e76ed7abff97134c5...</td>\n",
              "      <td>6937309.0</td>\n",
              "      <td>1.0</td>\n",
              "      <td>0.0</td>\n",
              "      <td>2020.11.30, benign, vt</td>\n",
              "    </tr>\n",
              "  </tbody>\n",
              "</table>\n",
              "</div>"
            ],
            "text/plain": [
              "   Unnamed: 0 filetype  ...  vt_positives                    tags\n",
              "0        3430      pdf  ...           0.0  2020.11.30, benign, vt\n",
              "1        3431      pdf  ...           0.0  2020.12.08, benign, vt\n",
              "2        3436      pdf  ...           0.0  benign, vt, 2020.11.17\n",
              "3        3445      pdf  ...           0.0  benign, 2021.01.08, vt\n",
              "4        3451      pdf  ...           0.0  2020.11.30, benign, vt\n",
              "\n",
              "[5 rows x 8 columns]"
            ]
          },
          "metadata": {
            "tags": []
          },
          "execution_count": 115
        }
      ]
    },
    {
      "cell_type": "code",
      "metadata": {
        "colab": {
          "base_uri": "https://localhost:8080/",
          "height": 309
        },
        "id": "MhgzaRXUW_8G",
        "outputId": "f1a6a8b0-c286-425b-f1e5-24c59bc6ba54"
      },
      "source": [
        "malicious_df = pd.read_csv('./pdf_malicious_2899.csv')\n",
        "\n",
        "malicious_df.head()"
      ],
      "execution_count": 116,
      "outputs": [
        {
          "output_type": "execute_result",
          "data": {
            "text/html": [
              "<div>\n",
              "<style scoped>\n",
              "    .dataframe tbody tr th:only-of-type {\n",
              "        vertical-align: middle;\n",
              "    }\n",
              "\n",
              "    .dataframe tbody tr th {\n",
              "        vertical-align: top;\n",
              "    }\n",
              "\n",
              "    .dataframe thead th {\n",
              "        text-align: right;\n",
              "    }\n",
              "</style>\n",
              "<table border=\"1\" class=\"dataframe\">\n",
              "  <thead>\n",
              "    <tr style=\"text-align: right;\">\n",
              "      <th></th>\n",
              "      <th>Unnamed: 0</th>\n",
              "      <th>tags</th>\n",
              "      <th>filetype</th>\n",
              "      <th>vt_total</th>\n",
              "      <th>sha256</th>\n",
              "      <th>size</th>\n",
              "      <th>vt_cache</th>\n",
              "      <th>vt_positives</th>\n",
              "    </tr>\n",
              "  </thead>\n",
              "  <tbody>\n",
              "    <tr>\n",
              "      <th>0</th>\n",
              "      <td>9</td>\n",
              "      <td>check_result, malicious</td>\n",
              "      <td>pdf</td>\n",
              "      <td>58.0</td>\n",
              "      <td>71df69151896a44dd18369d08cf25414bd36fbaa7fab9f...</td>\n",
              "      <td>41560.0</td>\n",
              "      <td>1.0</td>\n",
              "      <td>32.0</td>\n",
              "    </tr>\n",
              "    <tr>\n",
              "      <th>1</th>\n",
              "      <td>15</td>\n",
              "      <td>check_result, malicious</td>\n",
              "      <td>pdf</td>\n",
              "      <td>58.0</td>\n",
              "      <td>4c68f9baf2e8a1038cf2510981868ab4b64c29d0d260fb...</td>\n",
              "      <td>46056.0</td>\n",
              "      <td>1.0</td>\n",
              "      <td>30.0</td>\n",
              "    </tr>\n",
              "    <tr>\n",
              "      <th>2</th>\n",
              "      <td>19</td>\n",
              "      <td>check_result, malicious</td>\n",
              "      <td>pdf</td>\n",
              "      <td>55.0</td>\n",
              "      <td>21f8962d881a31898905e04dfc983f9009d5a582383c8d...</td>\n",
              "      <td>13769.0</td>\n",
              "      <td>1.0</td>\n",
              "      <td>21.0</td>\n",
              "    </tr>\n",
              "    <tr>\n",
              "      <th>3</th>\n",
              "      <td>20</td>\n",
              "      <td>check_result, malicious</td>\n",
              "      <td>pdf</td>\n",
              "      <td>58.0</td>\n",
              "      <td>082c30aa855a3738825e7b8f2b5d68cdc79cd8a4c757de...</td>\n",
              "      <td>52273.0</td>\n",
              "      <td>1.0</td>\n",
              "      <td>27.0</td>\n",
              "    </tr>\n",
              "    <tr>\n",
              "      <th>4</th>\n",
              "      <td>72</td>\n",
              "      <td>check_result,malicious</td>\n",
              "      <td>pdf</td>\n",
              "      <td>60.0</td>\n",
              "      <td>cede081fa1ecc6942859d49da9baacad0aaf81cba5ceff...</td>\n",
              "      <td>375809.0</td>\n",
              "      <td>1.0</td>\n",
              "      <td>31.0</td>\n",
              "    </tr>\n",
              "  </tbody>\n",
              "</table>\n",
              "</div>"
            ],
            "text/plain": [
              "   Unnamed: 0                     tags  ... vt_cache  vt_positives\n",
              "0           9  check_result, malicious  ...      1.0          32.0\n",
              "1          15  check_result, malicious  ...      1.0          30.0\n",
              "2          19  check_result, malicious  ...      1.0          21.0\n",
              "3          20  check_result, malicious  ...      1.0          27.0\n",
              "4          72   check_result,malicious  ...      1.0          31.0\n",
              "\n",
              "[5 rows x 8 columns]"
            ]
          },
          "metadata": {
            "tags": []
          },
          "execution_count": 116
        }
      ]
    },
    {
      "cell_type": "markdown",
      "metadata": {
        "id": "F4e0gbQfYwON"
      },
      "source": [
        "# 데이터 전처리"
      ]
    },
    {
      "cell_type": "markdown",
      "metadata": {
        "id": "-C8I16x3aRbd"
      },
      "source": [
        "benign : 0\n",
        "\n",
        "malicious : 1\n",
        "\n",
        "filetype 삭제"
      ]
    },
    {
      "cell_type": "code",
      "metadata": {
        "colab": {
          "base_uri": "https://localhost:8080/",
          "height": 221
        },
        "id": "zwEOEtPYYvSJ",
        "outputId": "f1e32d8a-002d-4238-d729-4405c4d3fd88"
      },
      "source": [
        "benign_df['tags'] = 0\n",
        "\n",
        "benign_df.head()"
      ],
      "execution_count": 117,
      "outputs": [
        {
          "output_type": "execute_result",
          "data": {
            "text/html": [
              "<div>\n",
              "<style scoped>\n",
              "    .dataframe tbody tr th:only-of-type {\n",
              "        vertical-align: middle;\n",
              "    }\n",
              "\n",
              "    .dataframe tbody tr th {\n",
              "        vertical-align: top;\n",
              "    }\n",
              "\n",
              "    .dataframe thead th {\n",
              "        text-align: right;\n",
              "    }\n",
              "</style>\n",
              "<table border=\"1\" class=\"dataframe\">\n",
              "  <thead>\n",
              "    <tr style=\"text-align: right;\">\n",
              "      <th></th>\n",
              "      <th>Unnamed: 0</th>\n",
              "      <th>filetype</th>\n",
              "      <th>vt_total</th>\n",
              "      <th>sha256</th>\n",
              "      <th>size</th>\n",
              "      <th>vt_cache</th>\n",
              "      <th>vt_positives</th>\n",
              "      <th>tags</th>\n",
              "    </tr>\n",
              "  </thead>\n",
              "  <tbody>\n",
              "    <tr>\n",
              "      <th>0</th>\n",
              "      <td>3430</td>\n",
              "      <td>pdf</td>\n",
              "      <td>63.0</td>\n",
              "      <td>472a39ef46ff037ed86998df89fb7b00cac49e8a3bab49...</td>\n",
              "      <td>1307522.0</td>\n",
              "      <td>1.0</td>\n",
              "      <td>0.0</td>\n",
              "      <td>0</td>\n",
              "    </tr>\n",
              "    <tr>\n",
              "      <th>1</th>\n",
              "      <td>3431</td>\n",
              "      <td>pdf</td>\n",
              "      <td>62.0</td>\n",
              "      <td>47306b179b56917bbe328da41550f29ef24c18e7061708...</td>\n",
              "      <td>262373.0</td>\n",
              "      <td>1.0</td>\n",
              "      <td>0.0</td>\n",
              "      <td>0</td>\n",
              "    </tr>\n",
              "    <tr>\n",
              "      <th>2</th>\n",
              "      <td>3436</td>\n",
              "      <td>pdf</td>\n",
              "      <td>59.0</td>\n",
              "      <td>486794494805a110736ee8f63d011ab275ca578f9d02c1...</td>\n",
              "      <td>265745.0</td>\n",
              "      <td>1.0</td>\n",
              "      <td>0.0</td>\n",
              "      <td>0</td>\n",
              "    </tr>\n",
              "    <tr>\n",
              "      <th>3</th>\n",
              "      <td>3445</td>\n",
              "      <td>pdf</td>\n",
              "      <td>61.0</td>\n",
              "      <td>4c34648efff32d0bb8a66ddb7e632b24b2588d4398d555...</td>\n",
              "      <td>9533230.0</td>\n",
              "      <td>1.0</td>\n",
              "      <td>0.0</td>\n",
              "      <td>0</td>\n",
              "    </tr>\n",
              "    <tr>\n",
              "      <th>4</th>\n",
              "      <td>3451</td>\n",
              "      <td>pdf</td>\n",
              "      <td>63.0</td>\n",
              "      <td>4f93591007cf9c081cc43c4baebb4e76ed7abff97134c5...</td>\n",
              "      <td>6937309.0</td>\n",
              "      <td>1.0</td>\n",
              "      <td>0.0</td>\n",
              "      <td>0</td>\n",
              "    </tr>\n",
              "  </tbody>\n",
              "</table>\n",
              "</div>"
            ],
            "text/plain": [
              "   Unnamed: 0 filetype  vt_total  ... vt_cache  vt_positives  tags\n",
              "0        3430      pdf      63.0  ...      1.0           0.0     0\n",
              "1        3431      pdf      62.0  ...      1.0           0.0     0\n",
              "2        3436      pdf      59.0  ...      1.0           0.0     0\n",
              "3        3445      pdf      61.0  ...      1.0           0.0     0\n",
              "4        3451      pdf      63.0  ...      1.0           0.0     0\n",
              "\n",
              "[5 rows x 8 columns]"
            ]
          },
          "metadata": {
            "tags": []
          },
          "execution_count": 117
        }
      ]
    },
    {
      "cell_type": "code",
      "metadata": {
        "colab": {
          "base_uri": "https://localhost:8080/",
          "height": 204
        },
        "id": "y1YjeyDXZWLY",
        "outputId": "1f1ba62f-f92a-4bff-dccc-40fc00207c15"
      },
      "source": [
        "benign_df=benign_df.drop(['Unnamed: 0', 'filetype'], axis=1)\n",
        "benign_df.head()"
      ],
      "execution_count": 118,
      "outputs": [
        {
          "output_type": "execute_result",
          "data": {
            "text/html": [
              "<div>\n",
              "<style scoped>\n",
              "    .dataframe tbody tr th:only-of-type {\n",
              "        vertical-align: middle;\n",
              "    }\n",
              "\n",
              "    .dataframe tbody tr th {\n",
              "        vertical-align: top;\n",
              "    }\n",
              "\n",
              "    .dataframe thead th {\n",
              "        text-align: right;\n",
              "    }\n",
              "</style>\n",
              "<table border=\"1\" class=\"dataframe\">\n",
              "  <thead>\n",
              "    <tr style=\"text-align: right;\">\n",
              "      <th></th>\n",
              "      <th>vt_total</th>\n",
              "      <th>sha256</th>\n",
              "      <th>size</th>\n",
              "      <th>vt_cache</th>\n",
              "      <th>vt_positives</th>\n",
              "      <th>tags</th>\n",
              "    </tr>\n",
              "  </thead>\n",
              "  <tbody>\n",
              "    <tr>\n",
              "      <th>0</th>\n",
              "      <td>63.0</td>\n",
              "      <td>472a39ef46ff037ed86998df89fb7b00cac49e8a3bab49...</td>\n",
              "      <td>1307522.0</td>\n",
              "      <td>1.0</td>\n",
              "      <td>0.0</td>\n",
              "      <td>0</td>\n",
              "    </tr>\n",
              "    <tr>\n",
              "      <th>1</th>\n",
              "      <td>62.0</td>\n",
              "      <td>47306b179b56917bbe328da41550f29ef24c18e7061708...</td>\n",
              "      <td>262373.0</td>\n",
              "      <td>1.0</td>\n",
              "      <td>0.0</td>\n",
              "      <td>0</td>\n",
              "    </tr>\n",
              "    <tr>\n",
              "      <th>2</th>\n",
              "      <td>59.0</td>\n",
              "      <td>486794494805a110736ee8f63d011ab275ca578f9d02c1...</td>\n",
              "      <td>265745.0</td>\n",
              "      <td>1.0</td>\n",
              "      <td>0.0</td>\n",
              "      <td>0</td>\n",
              "    </tr>\n",
              "    <tr>\n",
              "      <th>3</th>\n",
              "      <td>61.0</td>\n",
              "      <td>4c34648efff32d0bb8a66ddb7e632b24b2588d4398d555...</td>\n",
              "      <td>9533230.0</td>\n",
              "      <td>1.0</td>\n",
              "      <td>0.0</td>\n",
              "      <td>0</td>\n",
              "    </tr>\n",
              "    <tr>\n",
              "      <th>4</th>\n",
              "      <td>63.0</td>\n",
              "      <td>4f93591007cf9c081cc43c4baebb4e76ed7abff97134c5...</td>\n",
              "      <td>6937309.0</td>\n",
              "      <td>1.0</td>\n",
              "      <td>0.0</td>\n",
              "      <td>0</td>\n",
              "    </tr>\n",
              "  </tbody>\n",
              "</table>\n",
              "</div>"
            ],
            "text/plain": [
              "   vt_total  ... tags\n",
              "0      63.0  ...    0\n",
              "1      62.0  ...    0\n",
              "2      59.0  ...    0\n",
              "3      61.0  ...    0\n",
              "4      63.0  ...    0\n",
              "\n",
              "[5 rows x 6 columns]"
            ]
          },
          "metadata": {
            "tags": []
          },
          "execution_count": 118
        }
      ]
    },
    {
      "cell_type": "code",
      "metadata": {
        "colab": {
          "base_uri": "https://localhost:8080/"
        },
        "id": "Uq0oMxaGZ3_O",
        "outputId": "164694fc-868c-4ca1-cfec-66a611766104"
      },
      "source": [
        "malicious_df.vt_cache.value_counts()"
      ],
      "execution_count": 119,
      "outputs": [
        {
          "output_type": "execute_result",
          "data": {
            "text/plain": [
              "0.0    2056\n",
              "1.0     843\n",
              "Name: vt_cache, dtype: int64"
            ]
          },
          "metadata": {
            "tags": []
          },
          "execution_count": 119
        }
      ]
    },
    {
      "cell_type": "code",
      "metadata": {
        "colab": {
          "base_uri": "https://localhost:8080/",
          "height": 204
        },
        "id": "cZConwqCZyY7",
        "outputId": "f0e9e349-70ea-4e07-afcf-6a57a4f8817f"
      },
      "source": [
        "malicious_df=malicious_df.drop(['Unnamed: 0', 'filetype'], axis=1)\n",
        "malicious_df.head()"
      ],
      "execution_count": 120,
      "outputs": [
        {
          "output_type": "execute_result",
          "data": {
            "text/html": [
              "<div>\n",
              "<style scoped>\n",
              "    .dataframe tbody tr th:only-of-type {\n",
              "        vertical-align: middle;\n",
              "    }\n",
              "\n",
              "    .dataframe tbody tr th {\n",
              "        vertical-align: top;\n",
              "    }\n",
              "\n",
              "    .dataframe thead th {\n",
              "        text-align: right;\n",
              "    }\n",
              "</style>\n",
              "<table border=\"1\" class=\"dataframe\">\n",
              "  <thead>\n",
              "    <tr style=\"text-align: right;\">\n",
              "      <th></th>\n",
              "      <th>tags</th>\n",
              "      <th>vt_total</th>\n",
              "      <th>sha256</th>\n",
              "      <th>size</th>\n",
              "      <th>vt_cache</th>\n",
              "      <th>vt_positives</th>\n",
              "    </tr>\n",
              "  </thead>\n",
              "  <tbody>\n",
              "    <tr>\n",
              "      <th>0</th>\n",
              "      <td>check_result, malicious</td>\n",
              "      <td>58.0</td>\n",
              "      <td>71df69151896a44dd18369d08cf25414bd36fbaa7fab9f...</td>\n",
              "      <td>41560.0</td>\n",
              "      <td>1.0</td>\n",
              "      <td>32.0</td>\n",
              "    </tr>\n",
              "    <tr>\n",
              "      <th>1</th>\n",
              "      <td>check_result, malicious</td>\n",
              "      <td>58.0</td>\n",
              "      <td>4c68f9baf2e8a1038cf2510981868ab4b64c29d0d260fb...</td>\n",
              "      <td>46056.0</td>\n",
              "      <td>1.0</td>\n",
              "      <td>30.0</td>\n",
              "    </tr>\n",
              "    <tr>\n",
              "      <th>2</th>\n",
              "      <td>check_result, malicious</td>\n",
              "      <td>55.0</td>\n",
              "      <td>21f8962d881a31898905e04dfc983f9009d5a582383c8d...</td>\n",
              "      <td>13769.0</td>\n",
              "      <td>1.0</td>\n",
              "      <td>21.0</td>\n",
              "    </tr>\n",
              "    <tr>\n",
              "      <th>3</th>\n",
              "      <td>check_result, malicious</td>\n",
              "      <td>58.0</td>\n",
              "      <td>082c30aa855a3738825e7b8f2b5d68cdc79cd8a4c757de...</td>\n",
              "      <td>52273.0</td>\n",
              "      <td>1.0</td>\n",
              "      <td>27.0</td>\n",
              "    </tr>\n",
              "    <tr>\n",
              "      <th>4</th>\n",
              "      <td>check_result,malicious</td>\n",
              "      <td>60.0</td>\n",
              "      <td>cede081fa1ecc6942859d49da9baacad0aaf81cba5ceff...</td>\n",
              "      <td>375809.0</td>\n",
              "      <td>1.0</td>\n",
              "      <td>31.0</td>\n",
              "    </tr>\n",
              "  </tbody>\n",
              "</table>\n",
              "</div>"
            ],
            "text/plain": [
              "                      tags  vt_total  ... vt_cache  vt_positives\n",
              "0  check_result, malicious      58.0  ...      1.0          32.0\n",
              "1  check_result, malicious      58.0  ...      1.0          30.0\n",
              "2  check_result, malicious      55.0  ...      1.0          21.0\n",
              "3  check_result, malicious      58.0  ...      1.0          27.0\n",
              "4   check_result,malicious      60.0  ...      1.0          31.0\n",
              "\n",
              "[5 rows x 6 columns]"
            ]
          },
          "metadata": {
            "tags": []
          },
          "execution_count": 120
        }
      ]
    },
    {
      "cell_type": "code",
      "metadata": {
        "colab": {
          "base_uri": "https://localhost:8080/",
          "height": 204
        },
        "id": "D94jG1L8ZPki",
        "outputId": "8c3506f5-17db-4d4a-9375-9e33efe53365"
      },
      "source": [
        "malicious_df['tags'] = 1\n",
        "\n",
        "malicious_df.head()"
      ],
      "execution_count": 121,
      "outputs": [
        {
          "output_type": "execute_result",
          "data": {
            "text/html": [
              "<div>\n",
              "<style scoped>\n",
              "    .dataframe tbody tr th:only-of-type {\n",
              "        vertical-align: middle;\n",
              "    }\n",
              "\n",
              "    .dataframe tbody tr th {\n",
              "        vertical-align: top;\n",
              "    }\n",
              "\n",
              "    .dataframe thead th {\n",
              "        text-align: right;\n",
              "    }\n",
              "</style>\n",
              "<table border=\"1\" class=\"dataframe\">\n",
              "  <thead>\n",
              "    <tr style=\"text-align: right;\">\n",
              "      <th></th>\n",
              "      <th>tags</th>\n",
              "      <th>vt_total</th>\n",
              "      <th>sha256</th>\n",
              "      <th>size</th>\n",
              "      <th>vt_cache</th>\n",
              "      <th>vt_positives</th>\n",
              "    </tr>\n",
              "  </thead>\n",
              "  <tbody>\n",
              "    <tr>\n",
              "      <th>0</th>\n",
              "      <td>1</td>\n",
              "      <td>58.0</td>\n",
              "      <td>71df69151896a44dd18369d08cf25414bd36fbaa7fab9f...</td>\n",
              "      <td>41560.0</td>\n",
              "      <td>1.0</td>\n",
              "      <td>32.0</td>\n",
              "    </tr>\n",
              "    <tr>\n",
              "      <th>1</th>\n",
              "      <td>1</td>\n",
              "      <td>58.0</td>\n",
              "      <td>4c68f9baf2e8a1038cf2510981868ab4b64c29d0d260fb...</td>\n",
              "      <td>46056.0</td>\n",
              "      <td>1.0</td>\n",
              "      <td>30.0</td>\n",
              "    </tr>\n",
              "    <tr>\n",
              "      <th>2</th>\n",
              "      <td>1</td>\n",
              "      <td>55.0</td>\n",
              "      <td>21f8962d881a31898905e04dfc983f9009d5a582383c8d...</td>\n",
              "      <td>13769.0</td>\n",
              "      <td>1.0</td>\n",
              "      <td>21.0</td>\n",
              "    </tr>\n",
              "    <tr>\n",
              "      <th>3</th>\n",
              "      <td>1</td>\n",
              "      <td>58.0</td>\n",
              "      <td>082c30aa855a3738825e7b8f2b5d68cdc79cd8a4c757de...</td>\n",
              "      <td>52273.0</td>\n",
              "      <td>1.0</td>\n",
              "      <td>27.0</td>\n",
              "    </tr>\n",
              "    <tr>\n",
              "      <th>4</th>\n",
              "      <td>1</td>\n",
              "      <td>60.0</td>\n",
              "      <td>cede081fa1ecc6942859d49da9baacad0aaf81cba5ceff...</td>\n",
              "      <td>375809.0</td>\n",
              "      <td>1.0</td>\n",
              "      <td>31.0</td>\n",
              "    </tr>\n",
              "  </tbody>\n",
              "</table>\n",
              "</div>"
            ],
            "text/plain": [
              "   tags  vt_total  ... vt_cache  vt_positives\n",
              "0     1      58.0  ...      1.0          32.0\n",
              "1     1      58.0  ...      1.0          30.0\n",
              "2     1      55.0  ...      1.0          21.0\n",
              "3     1      58.0  ...      1.0          27.0\n",
              "4     1      60.0  ...      1.0          31.0\n",
              "\n",
              "[5 rows x 6 columns]"
            ]
          },
          "metadata": {
            "tags": []
          },
          "execution_count": 121
        }
      ]
    },
    {
      "cell_type": "code",
      "metadata": {
        "colab": {
          "base_uri": "https://localhost:8080/",
          "height": 419
        },
        "id": "XZC3-3J3ahiS",
        "outputId": "fe6f9260-5f18-4896-93a9-65c94a0192b9"
      },
      "source": [
        "labeling_df = pd.concat([benign_df, malicious_df])\n",
        "\n",
        "labeling_df"
      ],
      "execution_count": 122,
      "outputs": [
        {
          "output_type": "execute_result",
          "data": {
            "text/html": [
              "<div>\n",
              "<style scoped>\n",
              "    .dataframe tbody tr th:only-of-type {\n",
              "        vertical-align: middle;\n",
              "    }\n",
              "\n",
              "    .dataframe tbody tr th {\n",
              "        vertical-align: top;\n",
              "    }\n",
              "\n",
              "    .dataframe thead th {\n",
              "        text-align: right;\n",
              "    }\n",
              "</style>\n",
              "<table border=\"1\" class=\"dataframe\">\n",
              "  <thead>\n",
              "    <tr style=\"text-align: right;\">\n",
              "      <th></th>\n",
              "      <th>vt_total</th>\n",
              "      <th>sha256</th>\n",
              "      <th>size</th>\n",
              "      <th>vt_cache</th>\n",
              "      <th>vt_positives</th>\n",
              "      <th>tags</th>\n",
              "    </tr>\n",
              "  </thead>\n",
              "  <tbody>\n",
              "    <tr>\n",
              "      <th>0</th>\n",
              "      <td>63.0</td>\n",
              "      <td>472a39ef46ff037ed86998df89fb7b00cac49e8a3bab49...</td>\n",
              "      <td>1307522.0</td>\n",
              "      <td>1.0</td>\n",
              "      <td>0.0</td>\n",
              "      <td>0</td>\n",
              "    </tr>\n",
              "    <tr>\n",
              "      <th>1</th>\n",
              "      <td>62.0</td>\n",
              "      <td>47306b179b56917bbe328da41550f29ef24c18e7061708...</td>\n",
              "      <td>262373.0</td>\n",
              "      <td>1.0</td>\n",
              "      <td>0.0</td>\n",
              "      <td>0</td>\n",
              "    </tr>\n",
              "    <tr>\n",
              "      <th>2</th>\n",
              "      <td>59.0</td>\n",
              "      <td>486794494805a110736ee8f63d011ab275ca578f9d02c1...</td>\n",
              "      <td>265745.0</td>\n",
              "      <td>1.0</td>\n",
              "      <td>0.0</td>\n",
              "      <td>0</td>\n",
              "    </tr>\n",
              "    <tr>\n",
              "      <th>3</th>\n",
              "      <td>61.0</td>\n",
              "      <td>4c34648efff32d0bb8a66ddb7e632b24b2588d4398d555...</td>\n",
              "      <td>9533230.0</td>\n",
              "      <td>1.0</td>\n",
              "      <td>0.0</td>\n",
              "      <td>0</td>\n",
              "    </tr>\n",
              "    <tr>\n",
              "      <th>4</th>\n",
              "      <td>63.0</td>\n",
              "      <td>4f93591007cf9c081cc43c4baebb4e76ed7abff97134c5...</td>\n",
              "      <td>6937309.0</td>\n",
              "      <td>1.0</td>\n",
              "      <td>0.0</td>\n",
              "      <td>0</td>\n",
              "    </tr>\n",
              "    <tr>\n",
              "      <th>...</th>\n",
              "      <td>...</td>\n",
              "      <td>...</td>\n",
              "      <td>...</td>\n",
              "      <td>...</td>\n",
              "      <td>...</td>\n",
              "      <td>...</td>\n",
              "    </tr>\n",
              "    <tr>\n",
              "      <th>2894</th>\n",
              "      <td>0.0</td>\n",
              "      <td>f58e7ade32ed019ec03e426417f57e55bef339e597f7e4...</td>\n",
              "      <td>82237.0</td>\n",
              "      <td>0.0</td>\n",
              "      <td>0.0</td>\n",
              "      <td>1</td>\n",
              "    </tr>\n",
              "    <tr>\n",
              "      <th>2895</th>\n",
              "      <td>0.0</td>\n",
              "      <td>4ab0b160b8508b6d28ab7f1a618f8fbd079c9eb19d1b4f...</td>\n",
              "      <td>72618.0</td>\n",
              "      <td>0.0</td>\n",
              "      <td>0.0</td>\n",
              "      <td>1</td>\n",
              "    </tr>\n",
              "    <tr>\n",
              "      <th>2896</th>\n",
              "      <td>0.0</td>\n",
              "      <td>84f48e77786cb48de7c74c2d4042315d424fe6c03a89db...</td>\n",
              "      <td>86040.0</td>\n",
              "      <td>0.0</td>\n",
              "      <td>0.0</td>\n",
              "      <td>1</td>\n",
              "    </tr>\n",
              "    <tr>\n",
              "      <th>2897</th>\n",
              "      <td>0.0</td>\n",
              "      <td>d1472278890b25a8d26baa03a06f2e5965aec65d0c673e...</td>\n",
              "      <td>70602.0</td>\n",
              "      <td>0.0</td>\n",
              "      <td>0.0</td>\n",
              "      <td>1</td>\n",
              "    </tr>\n",
              "    <tr>\n",
              "      <th>2898</th>\n",
              "      <td>0.0</td>\n",
              "      <td>2b76d2d880e302f3fa43f8eb462bc4af6243d315adf287...</td>\n",
              "      <td>318175.0</td>\n",
              "      <td>0.0</td>\n",
              "      <td>0.0</td>\n",
              "      <td>1</td>\n",
              "    </tr>\n",
              "  </tbody>\n",
              "</table>\n",
              "<p>9566 rows × 6 columns</p>\n",
              "</div>"
            ],
            "text/plain": [
              "      vt_total  ... tags\n",
              "0         63.0  ...    0\n",
              "1         62.0  ...    0\n",
              "2         59.0  ...    0\n",
              "3         61.0  ...    0\n",
              "4         63.0  ...    0\n",
              "...        ...  ...  ...\n",
              "2894       0.0  ...    1\n",
              "2895       0.0  ...    1\n",
              "2896       0.0  ...    1\n",
              "2897       0.0  ...    1\n",
              "2898       0.0  ...    1\n",
              "\n",
              "[9566 rows x 6 columns]"
            ]
          },
          "metadata": {
            "tags": []
          },
          "execution_count": 122
        }
      ]
    },
    {
      "cell_type": "code",
      "metadata": {
        "colab": {
          "base_uri": "https://localhost:8080/"
        },
        "id": "ZA1XHvKKgBSQ",
        "outputId": "728304bf-09d5-47f2-927b-2e386300c6e8"
      },
      "source": [
        "df.shape, labeling_df.shape"
      ],
      "execution_count": 123,
      "outputs": [
        {
          "output_type": "execute_result",
          "data": {
            "text/plain": [
              "((10614, 22), (9566, 6))"
            ]
          },
          "metadata": {
            "tags": []
          },
          "execution_count": 123
        }
      ]
    },
    {
      "cell_type": "markdown",
      "metadata": {
        "id": "_mlbTMi4hM2N"
      },
      "source": [
        "# EDA"
      ]
    },
    {
      "cell_type": "code",
      "metadata": {
        "colab": {
          "base_uri": "https://localhost:8080/",
          "height": 241
        },
        "id": "vtcBrGkQbHDc",
        "outputId": "1cf6dac2-d751-4f18-ebd1-722c1e67deda"
      },
      "source": [
        "model_df = pd.merge(df, labeling_df, left_on='sha256', right_on='sha256', how='inner')\n",
        "model_df.head()"
      ],
      "execution_count": 124,
      "outputs": [
        {
          "output_type": "execute_result",
          "data": {
            "text/html": [
              "<div>\n",
              "<style scoped>\n",
              "    .dataframe tbody tr th:only-of-type {\n",
              "        vertical-align: middle;\n",
              "    }\n",
              "\n",
              "    .dataframe tbody tr th {\n",
              "        vertical-align: top;\n",
              "    }\n",
              "\n",
              "    .dataframe thead th {\n",
              "        text-align: right;\n",
              "    }\n",
              "</style>\n",
              "<table border=\"1\" class=\"dataframe\">\n",
              "  <thead>\n",
              "    <tr style=\"text-align: right;\">\n",
              "      <th></th>\n",
              "      <th>sha256</th>\n",
              "      <th>obj</th>\n",
              "      <th>endobj</th>\n",
              "      <th>stream</th>\n",
              "      <th>endstream</th>\n",
              "      <th>xref</th>\n",
              "      <th>trailer</th>\n",
              "      <th>startxref</th>\n",
              "      <th>/Page</th>\n",
              "      <th>/Encrypt</th>\n",
              "      <th>/ObjStm</th>\n",
              "      <th>/JS</th>\n",
              "      <th>/JavaScript</th>\n",
              "      <th>/AA</th>\n",
              "      <th>/OpenAction</th>\n",
              "      <th>/AcroForm</th>\n",
              "      <th>/JBIG2Decode</th>\n",
              "      <th>/RichMedia</th>\n",
              "      <th>/Launch</th>\n",
              "      <th>/EmbeddedFile</th>\n",
              "      <th>/XFA</th>\n",
              "      <th>/Colors &gt; 2^24</th>\n",
              "      <th>vt_total</th>\n",
              "      <th>size</th>\n",
              "      <th>vt_cache</th>\n",
              "      <th>vt_positives</th>\n",
              "      <th>tags</th>\n",
              "    </tr>\n",
              "  </thead>\n",
              "  <tbody>\n",
              "    <tr>\n",
              "      <th>0</th>\n",
              "      <td>8b7494a8141da134442238a8a19c27a10dbe5cf3e01ca4...</td>\n",
              "      <td>104</td>\n",
              "      <td>104</td>\n",
              "      <td>81</td>\n",
              "      <td>81</td>\n",
              "      <td>0</td>\n",
              "      <td>0</td>\n",
              "      <td>2</td>\n",
              "      <td>20</td>\n",
              "      <td>2</td>\n",
              "      <td>7</td>\n",
              "      <td>0</td>\n",
              "      <td>0</td>\n",
              "      <td>0</td>\n",
              "      <td>0</td>\n",
              "      <td>0</td>\n",
              "      <td>0</td>\n",
              "      <td>0</td>\n",
              "      <td>0</td>\n",
              "      <td>0</td>\n",
              "      <td>0</td>\n",
              "      <td>0</td>\n",
              "      <td>0.0</td>\n",
              "      <td>635958.0</td>\n",
              "      <td>1.0</td>\n",
              "      <td>0.0</td>\n",
              "      <td>0</td>\n",
              "    </tr>\n",
              "    <tr>\n",
              "      <th>1</th>\n",
              "      <td>8b45878de057a5773d3da8185eb5386b48350a4764745e...</td>\n",
              "      <td>62</td>\n",
              "      <td>62</td>\n",
              "      <td>19</td>\n",
              "      <td>19</td>\n",
              "      <td>2</td>\n",
              "      <td>2</td>\n",
              "      <td>2</td>\n",
              "      <td>10</td>\n",
              "      <td>0</td>\n",
              "      <td>1</td>\n",
              "      <td>0</td>\n",
              "      <td>0</td>\n",
              "      <td>0</td>\n",
              "      <td>0</td>\n",
              "      <td>0</td>\n",
              "      <td>0</td>\n",
              "      <td>0</td>\n",
              "      <td>0</td>\n",
              "      <td>0</td>\n",
              "      <td>0</td>\n",
              "      <td>0</td>\n",
              "      <td>56.0</td>\n",
              "      <td>239914.0</td>\n",
              "      <td>1.0</td>\n",
              "      <td>0.0</td>\n",
              "      <td>0</td>\n",
              "    </tr>\n",
              "    <tr>\n",
              "      <th>2</th>\n",
              "      <td>8b214cdae470d068a8e9116f1a39f3b9dadc1a365de21b...</td>\n",
              "      <td>104</td>\n",
              "      <td>104</td>\n",
              "      <td>93</td>\n",
              "      <td>93</td>\n",
              "      <td>0</td>\n",
              "      <td>0</td>\n",
              "      <td>3</td>\n",
              "      <td>8</td>\n",
              "      <td>0</td>\n",
              "      <td>10</td>\n",
              "      <td>0</td>\n",
              "      <td>0</td>\n",
              "      <td>0</td>\n",
              "      <td>0</td>\n",
              "      <td>0</td>\n",
              "      <td>0</td>\n",
              "      <td>0</td>\n",
              "      <td>0</td>\n",
              "      <td>0</td>\n",
              "      <td>0</td>\n",
              "      <td>0</td>\n",
              "      <td>0.0</td>\n",
              "      <td>989007.0</td>\n",
              "      <td>1.0</td>\n",
              "      <td>0.0</td>\n",
              "      <td>0</td>\n",
              "    </tr>\n",
              "    <tr>\n",
              "      <th>3</th>\n",
              "      <td>8b75c04d69844d1d2dd4eaaf095156a81ae3d69304995e...</td>\n",
              "      <td>31</td>\n",
              "      <td>31</td>\n",
              "      <td>9</td>\n",
              "      <td>9</td>\n",
              "      <td>1</td>\n",
              "      <td>1</td>\n",
              "      <td>1</td>\n",
              "      <td>3</td>\n",
              "      <td>0</td>\n",
              "      <td>0</td>\n",
              "      <td>0</td>\n",
              "      <td>0</td>\n",
              "      <td>0</td>\n",
              "      <td>0</td>\n",
              "      <td>0</td>\n",
              "      <td>0</td>\n",
              "      <td>0</td>\n",
              "      <td>0</td>\n",
              "      <td>0</td>\n",
              "      <td>0</td>\n",
              "      <td>0</td>\n",
              "      <td>0.0</td>\n",
              "      <td>59160.0</td>\n",
              "      <td>1.0</td>\n",
              "      <td>0.0</td>\n",
              "      <td>0</td>\n",
              "    </tr>\n",
              "    <tr>\n",
              "      <th>4</th>\n",
              "      <td>8b7f5d4b85ac2708678b07413059a839e926105736c466...</td>\n",
              "      <td>78</td>\n",
              "      <td>78</td>\n",
              "      <td>74</td>\n",
              "      <td>74</td>\n",
              "      <td>0</td>\n",
              "      <td>0</td>\n",
              "      <td>1</td>\n",
              "      <td>0</td>\n",
              "      <td>1</td>\n",
              "      <td>21</td>\n",
              "      <td>0</td>\n",
              "      <td>0</td>\n",
              "      <td>0</td>\n",
              "      <td>1</td>\n",
              "      <td>0</td>\n",
              "      <td>0</td>\n",
              "      <td>0</td>\n",
              "      <td>0</td>\n",
              "      <td>0</td>\n",
              "      <td>0</td>\n",
              "      <td>0</td>\n",
              "      <td>0.0</td>\n",
              "      <td>645743.0</td>\n",
              "      <td>1.0</td>\n",
              "      <td>0.0</td>\n",
              "      <td>0</td>\n",
              "    </tr>\n",
              "  </tbody>\n",
              "</table>\n",
              "</div>"
            ],
            "text/plain": [
              "                                              sha256  obj  ...  vt_positives  tags\n",
              "0  8b7494a8141da134442238a8a19c27a10dbe5cf3e01ca4...  104  ...           0.0     0\n",
              "1  8b45878de057a5773d3da8185eb5386b48350a4764745e...   62  ...           0.0     0\n",
              "2  8b214cdae470d068a8e9116f1a39f3b9dadc1a365de21b...  104  ...           0.0     0\n",
              "3  8b75c04d69844d1d2dd4eaaf095156a81ae3d69304995e...   31  ...           0.0     0\n",
              "4  8b7f5d4b85ac2708678b07413059a839e926105736c466...   78  ...           0.0     0\n",
              "\n",
              "[5 rows x 27 columns]"
            ]
          },
          "metadata": {
            "tags": []
          },
          "execution_count": 124
        }
      ]
    },
    {
      "cell_type": "code",
      "metadata": {
        "id": "SvOwMQz_g4Cu"
      },
      "source": [
        "model_df = model_df.drop(['vt_total', 'vt_cache', 'vt_positives'], axis=1)"
      ],
      "execution_count": 125,
      "outputs": []
    },
    {
      "cell_type": "code",
      "metadata": {
        "id": "_ttZXfalJYo9"
      },
      "source": [
        "model_df.to_csv('model_data_set.csv')"
      ],
      "execution_count": 126,
      "outputs": []
    },
    {
      "cell_type": "code",
      "metadata": {
        "colab": {
          "base_uri": "https://localhost:8080/"
        },
        "id": "wRi4-hckguoY",
        "outputId": "f053f00d-367e-4881-f524-650cf23edffb"
      },
      "source": [
        "model_df.info()"
      ],
      "execution_count": 127,
      "outputs": [
        {
          "output_type": "stream",
          "text": [
            "<class 'pandas.core.frame.DataFrame'>\n",
            "Int64Index: 9441 entries, 0 to 9440\n",
            "Data columns (total 24 columns):\n",
            " #   Column          Non-Null Count  Dtype  \n",
            "---  ------          --------------  -----  \n",
            " 0   sha256          9441 non-null   object \n",
            " 1   obj             9441 non-null   int64  \n",
            " 2   endobj          9441 non-null   int64  \n",
            " 3   stream          9441 non-null   int64  \n",
            " 4   endstream       9441 non-null   int64  \n",
            " 5   xref            9441 non-null   int64  \n",
            " 6   trailer         9441 non-null   int64  \n",
            " 7   startxref       9441 non-null   int64  \n",
            " 8   /Page           9441 non-null   int64  \n",
            " 9   /Encrypt        9441 non-null   int64  \n",
            " 10  /ObjStm         9441 non-null   int64  \n",
            " 11  /JS             9441 non-null   int64  \n",
            " 12  /JavaScript     9441 non-null   int64  \n",
            " 13  /AA             9441 non-null   int64  \n",
            " 14  /OpenAction     9441 non-null   int64  \n",
            " 15  /AcroForm       9441 non-null   int64  \n",
            " 16  /JBIG2Decode    9441 non-null   int64  \n",
            " 17  /RichMedia      9441 non-null   int64  \n",
            " 18  /Launch         9441 non-null   int64  \n",
            " 19  /EmbeddedFile   9441 non-null   int64  \n",
            " 20  /XFA            9441 non-null   int64  \n",
            " 21  /Colors > 2^24  9441 non-null   int64  \n",
            " 22  size            9441 non-null   float64\n",
            " 23  tags            9441 non-null   int64  \n",
            "dtypes: float64(1), int64(22), object(1)\n",
            "memory usage: 1.8+ MB\n"
          ],
          "name": "stdout"
        }
      ]
    },
    {
      "cell_type": "code",
      "metadata": {
        "colab": {
          "base_uri": "https://localhost:8080/",
          "height": 334
        },
        "id": "tHVkFje3hSpJ",
        "outputId": "273370b5-f089-44eb-bca1-7f75714f5993"
      },
      "source": [
        "model_df.describe()"
      ],
      "execution_count": 128,
      "outputs": [
        {
          "output_type": "execute_result",
          "data": {
            "text/html": [
              "<div>\n",
              "<style scoped>\n",
              "    .dataframe tbody tr th:only-of-type {\n",
              "        vertical-align: middle;\n",
              "    }\n",
              "\n",
              "    .dataframe tbody tr th {\n",
              "        vertical-align: top;\n",
              "    }\n",
              "\n",
              "    .dataframe thead th {\n",
              "        text-align: right;\n",
              "    }\n",
              "</style>\n",
              "<table border=\"1\" class=\"dataframe\">\n",
              "  <thead>\n",
              "    <tr style=\"text-align: right;\">\n",
              "      <th></th>\n",
              "      <th>obj</th>\n",
              "      <th>endobj</th>\n",
              "      <th>stream</th>\n",
              "      <th>endstream</th>\n",
              "      <th>xref</th>\n",
              "      <th>trailer</th>\n",
              "      <th>startxref</th>\n",
              "      <th>/Page</th>\n",
              "      <th>/Encrypt</th>\n",
              "      <th>/ObjStm</th>\n",
              "      <th>/JS</th>\n",
              "      <th>/JavaScript</th>\n",
              "      <th>/AA</th>\n",
              "      <th>/OpenAction</th>\n",
              "      <th>/AcroForm</th>\n",
              "      <th>/JBIG2Decode</th>\n",
              "      <th>/RichMedia</th>\n",
              "      <th>/Launch</th>\n",
              "      <th>/EmbeddedFile</th>\n",
              "      <th>/XFA</th>\n",
              "      <th>/Colors &gt; 2^24</th>\n",
              "      <th>size</th>\n",
              "      <th>tags</th>\n",
              "    </tr>\n",
              "  </thead>\n",
              "  <tbody>\n",
              "    <tr>\n",
              "      <th>count</th>\n",
              "      <td>9441.000000</td>\n",
              "      <td>9441.000000</td>\n",
              "      <td>9441.000000</td>\n",
              "      <td>9441.000000</td>\n",
              "      <td>9441.000000</td>\n",
              "      <td>9441.000000</td>\n",
              "      <td>9441.000000</td>\n",
              "      <td>9441.000000</td>\n",
              "      <td>9441.000000</td>\n",
              "      <td>9441.000000</td>\n",
              "      <td>9441.000000</td>\n",
              "      <td>9441.000000</td>\n",
              "      <td>9441.000000</td>\n",
              "      <td>9441.000000</td>\n",
              "      <td>9441.000000</td>\n",
              "      <td>9441.000000</td>\n",
              "      <td>9441.000000</td>\n",
              "      <td>9441.000000</td>\n",
              "      <td>9441.000000</td>\n",
              "      <td>9441.000000</td>\n",
              "      <td>9441.000000</td>\n",
              "      <td>9.441000e+03</td>\n",
              "      <td>9441.000000</td>\n",
              "    </tr>\n",
              "    <tr>\n",
              "      <th>mean</th>\n",
              "      <td>497.388200</td>\n",
              "      <td>497.145218</td>\n",
              "      <td>207.773859</td>\n",
              "      <td>207.246796</td>\n",
              "      <td>1.291283</td>\n",
              "      <td>1.292024</td>\n",
              "      <td>1.618155</td>\n",
              "      <td>26.072556</td>\n",
              "      <td>0.040462</td>\n",
              "      <td>6.404512</td>\n",
              "      <td>0.174028</td>\n",
              "      <td>0.131236</td>\n",
              "      <td>0.093952</td>\n",
              "      <td>0.256647</td>\n",
              "      <td>0.104650</td>\n",
              "      <td>0.502171</td>\n",
              "      <td>0.000106</td>\n",
              "      <td>0.046393</td>\n",
              "      <td>0.043957</td>\n",
              "      <td>0.005614</td>\n",
              "      <td>0.000106</td>\n",
              "      <td>1.408601e+06</td>\n",
              "      <td>0.300498</td>\n",
              "    </tr>\n",
              "    <tr>\n",
              "      <th>std</th>\n",
              "      <td>2660.227068</td>\n",
              "      <td>2659.986186</td>\n",
              "      <td>1578.409607</td>\n",
              "      <td>1578.144359</td>\n",
              "      <td>1.161757</td>\n",
              "      <td>1.147948</td>\n",
              "      <td>1.120043</td>\n",
              "      <td>136.660612</td>\n",
              "      <td>0.257626</td>\n",
              "      <td>40.780043</td>\n",
              "      <td>3.599156</td>\n",
              "      <td>3.596703</td>\n",
              "      <td>1.406841</td>\n",
              "      <td>0.504130</td>\n",
              "      <td>0.440604</td>\n",
              "      <td>16.727851</td>\n",
              "      <td>0.010292</td>\n",
              "      <td>2.932425</td>\n",
              "      <td>0.540593</td>\n",
              "      <td>0.076123</td>\n",
              "      <td>0.010292</td>\n",
              "      <td>4.645756e+06</td>\n",
              "      <td>0.458499</td>\n",
              "    </tr>\n",
              "    <tr>\n",
              "      <th>min</th>\n",
              "      <td>1.000000</td>\n",
              "      <td>0.000000</td>\n",
              "      <td>0.000000</td>\n",
              "      <td>0.000000</td>\n",
              "      <td>0.000000</td>\n",
              "      <td>0.000000</td>\n",
              "      <td>0.000000</td>\n",
              "      <td>0.000000</td>\n",
              "      <td>0.000000</td>\n",
              "      <td>0.000000</td>\n",
              "      <td>0.000000</td>\n",
              "      <td>0.000000</td>\n",
              "      <td>0.000000</td>\n",
              "      <td>0.000000</td>\n",
              "      <td>0.000000</td>\n",
              "      <td>0.000000</td>\n",
              "      <td>0.000000</td>\n",
              "      <td>0.000000</td>\n",
              "      <td>0.000000</td>\n",
              "      <td>0.000000</td>\n",
              "      <td>0.000000</td>\n",
              "      <td>4.830000e+02</td>\n",
              "      <td>0.000000</td>\n",
              "    </tr>\n",
              "    <tr>\n",
              "      <th>25%</th>\n",
              "      <td>40.000000</td>\n",
              "      <td>39.000000</td>\n",
              "      <td>7.000000</td>\n",
              "      <td>7.000000</td>\n",
              "      <td>1.000000</td>\n",
              "      <td>1.000000</td>\n",
              "      <td>1.000000</td>\n",
              "      <td>2.000000</td>\n",
              "      <td>0.000000</td>\n",
              "      <td>0.000000</td>\n",
              "      <td>0.000000</td>\n",
              "      <td>0.000000</td>\n",
              "      <td>0.000000</td>\n",
              "      <td>0.000000</td>\n",
              "      <td>0.000000</td>\n",
              "      <td>0.000000</td>\n",
              "      <td>0.000000</td>\n",
              "      <td>0.000000</td>\n",
              "      <td>0.000000</td>\n",
              "      <td>0.000000</td>\n",
              "      <td>0.000000</td>\n",
              "      <td>4.611500e+04</td>\n",
              "      <td>0.000000</td>\n",
              "    </tr>\n",
              "    <tr>\n",
              "      <th>50%</th>\n",
              "      <td>69.000000</td>\n",
              "      <td>69.000000</td>\n",
              "      <td>23.000000</td>\n",
              "      <td>23.000000</td>\n",
              "      <td>1.000000</td>\n",
              "      <td>1.000000</td>\n",
              "      <td>2.000000</td>\n",
              "      <td>3.000000</td>\n",
              "      <td>0.000000</td>\n",
              "      <td>0.000000</td>\n",
              "      <td>0.000000</td>\n",
              "      <td>0.000000</td>\n",
              "      <td>0.000000</td>\n",
              "      <td>0.000000</td>\n",
              "      <td>0.000000</td>\n",
              "      <td>0.000000</td>\n",
              "      <td>0.000000</td>\n",
              "      <td>0.000000</td>\n",
              "      <td>0.000000</td>\n",
              "      <td>0.000000</td>\n",
              "      <td>0.000000</td>\n",
              "      <td>2.214560e+05</td>\n",
              "      <td>0.000000</td>\n",
              "    </tr>\n",
              "    <tr>\n",
              "      <th>75%</th>\n",
              "      <td>203.000000</td>\n",
              "      <td>203.000000</td>\n",
              "      <td>91.000000</td>\n",
              "      <td>91.000000</td>\n",
              "      <td>2.000000</td>\n",
              "      <td>2.000000</td>\n",
              "      <td>2.000000</td>\n",
              "      <td>14.000000</td>\n",
              "      <td>0.000000</td>\n",
              "      <td>2.000000</td>\n",
              "      <td>0.000000</td>\n",
              "      <td>0.000000</td>\n",
              "      <td>0.000000</td>\n",
              "      <td>0.000000</td>\n",
              "      <td>0.000000</td>\n",
              "      <td>0.000000</td>\n",
              "      <td>0.000000</td>\n",
              "      <td>0.000000</td>\n",
              "      <td>0.000000</td>\n",
              "      <td>0.000000</td>\n",
              "      <td>0.000000</td>\n",
              "      <td>9.746910e+05</td>\n",
              "      <td>1.000000</td>\n",
              "    </tr>\n",
              "    <tr>\n",
              "      <th>max</th>\n",
              "      <td>102532.000000</td>\n",
              "      <td>102530.000000</td>\n",
              "      <td>85934.000000</td>\n",
              "      <td>85934.000000</td>\n",
              "      <td>35.000000</td>\n",
              "      <td>35.000000</td>\n",
              "      <td>48.000000</td>\n",
              "      <td>7725.000000</td>\n",
              "      <td>6.000000</td>\n",
              "      <td>1557.000000</td>\n",
              "      <td>267.000000</td>\n",
              "      <td>268.000000</td>\n",
              "      <td>88.000000</td>\n",
              "      <td>22.000000</td>\n",
              "      <td>22.000000</td>\n",
              "      <td>1067.000000</td>\n",
              "      <td>1.000000</td>\n",
              "      <td>283.000000</td>\n",
              "      <td>24.000000</td>\n",
              "      <td>2.000000</td>\n",
              "      <td>1.000000</td>\n",
              "      <td>1.721597e+08</td>\n",
              "      <td>1.000000</td>\n",
              "    </tr>\n",
              "  </tbody>\n",
              "</table>\n",
              "</div>"
            ],
            "text/plain": [
              "                 obj         endobj  ...          size         tags\n",
              "count    9441.000000    9441.000000  ...  9.441000e+03  9441.000000\n",
              "mean      497.388200     497.145218  ...  1.408601e+06     0.300498\n",
              "std      2660.227068    2659.986186  ...  4.645756e+06     0.458499\n",
              "min         1.000000       0.000000  ...  4.830000e+02     0.000000\n",
              "25%        40.000000      39.000000  ...  4.611500e+04     0.000000\n",
              "50%        69.000000      69.000000  ...  2.214560e+05     0.000000\n",
              "75%       203.000000     203.000000  ...  9.746910e+05     1.000000\n",
              "max    102532.000000  102530.000000  ...  1.721597e+08     1.000000\n",
              "\n",
              "[8 rows x 23 columns]"
            ]
          },
          "metadata": {
            "tags": []
          },
          "execution_count": 128
        }
      ]
    },
    {
      "cell_type": "markdown",
      "metadata": {
        "id": "Sakt2NVEhFNq"
      },
      "source": [
        "## Base line"
      ]
    },
    {
      "cell_type": "code",
      "metadata": {
        "colab": {
          "base_uri": "https://localhost:8080/"
        },
        "id": "TC9CBeX4gggE",
        "outputId": "fde788fc-5067-4c7f-e842-13d6ac80d74f"
      },
      "source": [
        "model_df.tags.value_counts(normalize=True)"
      ],
      "execution_count": 129,
      "outputs": [
        {
          "output_type": "execute_result",
          "data": {
            "text/plain": [
              "0    0.699502\n",
              "1    0.300498\n",
              "Name: tags, dtype: float64"
            ]
          },
          "metadata": {
            "tags": []
          },
          "execution_count": 129
        }
      ]
    },
    {
      "cell_type": "code",
      "metadata": {
        "colab": {
          "base_uri": "https://localhost:8080/",
          "height": 295
        },
        "id": "A13caSDuhJw2",
        "outputId": "bef3439c-ef7b-46e2-a079-8ad5bcd5e76f"
      },
      "source": [
        "import seaborn as sns\n",
        "import matplotlib.pyplot as plt\n",
        "import warnings\n",
        "\n",
        "warnings.filterwarnings(\"ignore\")\n",
        "%matplotlib inline\n",
        "\n",
        "sns.countplot(x=\"tags\", data=model_df)\n",
        "plt.title(\"malicious:1 / benign:0 ratio\")\n",
        "plt.show()"
      ],
      "execution_count": 130,
      "outputs": [
        {
          "output_type": "display_data",
          "data": {
            "image/png": "[encoded data removed]",
            "text/plain": [
              "<Figure size 432x288 with 1 Axes>"
            ]
          },
          "metadata": {
            "tags": [],
            "needs_background": "light"
          }
        }
      ]
    },
    {
      "cell_type": "markdown",
      "metadata": {
        "id": "Yf5JSLhcqyGx"
      },
      "source": [
        "# train validation 데이터 분류"
      ]
    },
    {
      "cell_type": "code",
      "metadata": {
        "colab": {
          "base_uri": "https://localhost:8080/"
        },
        "id": "VvYwGaNiq5F3",
        "outputId": "9c260a51-2596-409a-d1ed-7ba718728b89"
      },
      "source": [
        "from sklearn.model_selection import train_test_split\n",
        "\n",
        "X = model_df.drop(['tags','sha256'], axis=1)\n",
        "y = model_df['tags']\n",
        "\n",
        "X.shape, y.shape"
      ],
      "execution_count": 131,
      "outputs": [
        {
          "output_type": "execute_result",
          "data": {
            "text/plain": [
              "((9441, 22), (9441,))"
            ]
          },
          "metadata": {
            "tags": []
          },
          "execution_count": 131
        }
      ]
    },
    {
      "cell_type": "code",
      "metadata": {
        "colab": {
          "base_uri": "https://localhost:8080/"
        },
        "id": "lUoNfGl6rpdv",
        "outputId": "1f311b1c-d410-4676-ced8-ab5236c2d346"
      },
      "source": [
        "X_train, X_val, y_train, y_val = train_test_split(X, y, test_size=0.2, shuffle=True, stratify=y, random_state=42)\n",
        "\n",
        "X_train.shape, X_val.shape, y_train.shape, y_val.shape"
      ],
      "execution_count": 132,
      "outputs": [
        {
          "output_type": "execute_result",
          "data": {
            "text/plain": [
              "((7552, 22), (1889, 22), (7552,), (1889,))"
            ]
          },
          "metadata": {
            "tags": []
          },
          "execution_count": 132
        }
      ]
    },
    {
      "cell_type": "code",
      "metadata": {
        "colab": {
          "base_uri": "https://localhost:8080/"
        },
        "id": "4dM052khtP7P",
        "outputId": "82650936-2174-4757-b23d-a5cc264b6267"
      },
      "source": [
        "X_train, X_test, y_train, y_test = train_test_split(X_train, y_train, test_size=0.2, shuffle=True, stratify=y_train, random_state=42)\n",
        "\n",
        "X_train.shape, X_test.shape, y_train.shape, y_test.shape"
      ],
      "execution_count": 133,
      "outputs": [
        {
          "output_type": "execute_result",
          "data": {
            "text/plain": [
              "((6041, 22), (1511, 22), (6041,), (1511,))"
            ]
          },
          "metadata": {
            "tags": []
          },
          "execution_count": 133
        }
      ]
    },
    {
      "cell_type": "code",
      "metadata": {
        "colab": {
          "base_uri": "https://localhost:8080/"
        },
        "id": "E8o9rezust1H",
        "outputId": "18eaf4ed-26c5-413a-cf7e-a820d4784a78"
      },
      "source": [
        "y_train.value_counts(normalize=True)"
      ],
      "execution_count": 134,
      "outputs": [
        {
          "output_type": "execute_result",
          "data": {
            "text/plain": [
              "0    0.699553\n",
              "1    0.300447\n",
              "Name: tags, dtype: float64"
            ]
          },
          "metadata": {
            "tags": []
          },
          "execution_count": 134
        }
      ]
    },
    {
      "cell_type": "code",
      "metadata": {
        "colab": {
          "base_uri": "https://localhost:8080/"
        },
        "id": "f8J3reUJsjPs",
        "outputId": "f10cbad3-5858-471e-af99-f2480158bc0b"
      },
      "source": [
        "y_val.value_counts(normalize=True)"
      ],
      "execution_count": 135,
      "outputs": [
        {
          "output_type": "execute_result",
          "data": {
            "text/plain": [
              "0    0.699312\n",
              "1    0.300688\n",
              "Name: tags, dtype: float64"
            ]
          },
          "metadata": {
            "tags": []
          },
          "execution_count": 135
        }
      ]
    },
    {
      "cell_type": "code",
      "metadata": {
        "colab": {
          "base_uri": "https://localhost:8080/"
        },
        "id": "sQ4Nm0s7s79H",
        "outputId": "497c769e-ac23-4740-977f-e0f48efe78a4"
      },
      "source": [
        "y_test.value_counts(normalize=True)"
      ],
      "execution_count": 136,
      "outputs": [
        {
          "output_type": "execute_result",
          "data": {
            "text/plain": [
              "0    0.699537\n",
              "1    0.300463\n",
              "Name: tags, dtype: float64"
            ]
          },
          "metadata": {
            "tags": []
          },
          "execution_count": 136
        }
      ]
    },
    {
      "cell_type": "markdown",
      "metadata": {
        "id": "kjFXYuW9jn3d"
      },
      "source": [
        "# modeling"
      ]
    },
    {
      "cell_type": "markdown",
      "metadata": {
        "id": "KjJfNR4dx_9f"
      },
      "source": [
        "## RandomForest "
      ]
    },
    {
      "cell_type": "code",
      "metadata": {
        "colab": {
          "base_uri": "https://localhost:8080/"
        },
        "id": "zxfhbXakjwhI",
        "outputId": "56ff968d-b9f1-4027-d052-74cf724b08bb"
      },
      "source": [
        "!pip install category_encoders"
      ],
      "execution_count": 137,
      "outputs": [
        {
          "output_type": "stream",
          "text": [
            "Requirement already satisfied: category_encoders in /usr/local/lib/python3.7/dist-packages (2.2.2)\n",
            "Requirement already satisfied: patsy>=0.5.1 in /usr/local/lib/python3.7/dist-packages (from category_encoders) (0.5.1)\n",
            "Requirement already satisfied: scipy>=1.0.0 in /usr/local/lib/python3.7/dist-packages (from category_encoders) (1.4.1)\n",
            "Requirement already satisfied: pandas>=0.21.1 in /usr/local/lib/python3.7/dist-packages (from category_encoders) (1.1.5)\n",
            "Requirement already satisfied: numpy>=1.14.0 in /usr/local/lib/python3.7/dist-packages (from category_encoders) (1.19.5)\n",
            "Requirement already satisfied: scikit-learn>=0.20.0 in /usr/local/lib/python3.7/dist-packages (from category_encoders) (0.22.2.post1)\n",
            "Requirement already satisfied: statsmodels>=0.9.0 in /usr/local/lib/python3.7/dist-packages (from category_encoders) (0.10.2)\n",
            "Requirement already satisfied: six in /usr/local/lib/python3.7/dist-packages (from patsy>=0.5.1->category_encoders) (1.15.0)\n",
            "Requirement already satisfied: python-dateutil>=2.7.3 in /usr/local/lib/python3.7/dist-packages (from pandas>=0.21.1->category_encoders) (2.8.1)\n",
            "Requirement already satisfied: pytz>=2017.2 in /usr/local/lib/python3.7/dist-packages (from pandas>=0.21.1->category_encoders) (2018.9)\n",
            "Requirement already satisfied: joblib>=0.11 in /usr/local/lib/python3.7/dist-packages (from scikit-learn>=0.20.0->category_encoders) (1.0.1)\n"
          ],
          "name": "stdout"
        }
      ]
    },
    {
      "cell_type": "code",
      "metadata": {
        "id": "8caA1K0eOS6a"
      },
      "source": [
        ""
      ],
      "execution_count": 137,
      "outputs": []
    },
    {
      "cell_type": "code",
      "metadata": {
        "id": "ITmDhN3RjneF",
        "colab": {
          "base_uri": "https://localhost:8080/"
        },
        "outputId": "31242488-7178-40e0-f538-1fa4a2682b70"
      },
      "source": [
        "from category_encoders import OneHotEncoder\n",
        "from sklearn.ensemble import RandomForestClassifier\n",
        "from sklearn.impute import SimpleImputer \n",
        "from sklearn.pipeline import make_pipeline\n",
        "\n",
        "pipe = make_pipeline(\n",
        "    OneHotEncoder(use_cat_names=True), \n",
        "    SimpleImputer(), \n",
        "    RandomForestClassifier(n_jobs=-1, random_state=10, oob_score=True)\n",
        ")\n",
        "\n",
        "pipe.fit(X_train, y_train)\n",
        "print('검증 정확도: ', pipe.score(X_val, y_val))"
      ],
      "execution_count": 138,
      "outputs": [
        {
          "output_type": "stream",
          "text": [
            "검증 정확도:  0.8909475913181577\n"
          ],
          "name": "stdout"
        }
      ]
    },
    {
      "cell_type": "code",
      "metadata": {
        "id": "_Zwpi1UAOOI7",
        "colab": {
          "base_uri": "https://localhost:8080/",
          "height": 324
        },
        "outputId": "7e840704-05ee-47dd-ae9c-c1eb1920ddfa"
      },
      "source": [
        "import matplotlib.pyplot as plt\n",
        "\n",
        "# 특성 중요도(onehot)\n",
        "rf = pipe.named_steps['randomforestclassifier']\n",
        "colnames = pipe.named_steps['onehotencoder'].get_feature_names()\n",
        "importances = pd.Series(rf.feature_importances_, colnames)\n",
        "\n",
        "n = 20\n",
        "plt.figure(figsize=(10,n/4))\n",
        "plt.title(f'Top {n} features with onehotencoder')\n",
        "importances.sort_values()[-n:].plot.barh();"
      ],
      "execution_count": 139,
      "outputs": [
        {
          "output_type": "display_data",
          "data": {
            "image/png": "[encoded data removed]",
            "text/plain": [
              "<Figure size 720x360 with 1 Axes>"
            ]
          },
          "metadata": {
            "tags": [],
            "needs_background": "light"
          }
        }
      ]
    },
    {
      "cell_type": "markdown",
      "metadata": {
        "id": "vFj5xiAeNG8m"
      },
      "source": [
        "**분류문제에서 적합한 평가지표**"
      ]
    },
    {
      "cell_type": "code",
      "metadata": {
        "colab": {
          "base_uri": "https://localhost:8080/",
          "height": 297
        },
        "id": "UG3BhSSNkl7J",
        "outputId": "61676391-fe36-4b0f-9668-d687ad0a51f4"
      },
      "source": [
        "from sklearn.metrics import plot_confusion_matrix\n",
        "import matplotlib.pyplot as plt\n",
        "\n",
        "fig, ax = plt.subplots()\n",
        "pcm = plot_confusion_matrix(pipe, X_val, y_val,\n",
        "                            cmap=plt.cm.Blues,\n",
        "                            ax=ax);\n",
        "plt.title(f'Confusion matrix, n = {len(y_test)}', fontsize=15);"
      ],
      "execution_count": 140,
      "outputs": [
        {
          "output_type": "display_data",
          "data": {
            "image/png": "[encoded data removed]",
            "text/plain": [
              "<Figure size 432x288 with 2 Axes>"
            ]
          },
          "metadata": {
            "tags": [],
            "needs_background": "light"
          }
        }
      ]
    },
    {
      "cell_type": "code",
      "metadata": {
        "colab": {
          "base_uri": "https://localhost:8080/"
        },
        "id": "TOiS0AkjH28H",
        "outputId": "d05cd993-8bae-4e6a-a890-e4844606030f"
      },
      "source": [
        "from sklearn.metrics import classification_report\n",
        "y_pred = pipe.predict(X_val)\n",
        "print(classification_report(y_val, y_pred))"
      ],
      "execution_count": 141,
      "outputs": [
        {
          "output_type": "stream",
          "text": [
            "              precision    recall  f1-score   support\n",
            "\n",
            "           0       0.90      0.95      0.92      1321\n",
            "           1       0.86      0.76      0.81       568\n",
            "\n",
            "    accuracy                           0.89      1889\n",
            "   macro avg       0.88      0.85      0.87      1889\n",
            "weighted avg       0.89      0.89      0.89      1889\n",
            "\n"
          ],
          "name": "stdout"
        }
      ]
    },
    {
      "cell_type": "code",
      "metadata": {
        "colab": {
          "base_uri": "https://localhost:8080/"
        },
        "id": "01-_mcPpH_t1",
        "outputId": "28287a27-fdc3-4646-8693-8df6419d6dfc"
      },
      "source": [
        "from sklearn.metrics import roc_auc_score\n",
        "\n",
        "y_pred_proba = pipe.predict_proba(X_val)[:, -1]\n",
        "print('AUC score: ', roc_auc_score(y_val, y_pred_proba))"
      ],
      "execution_count": 142,
      "outputs": [
        {
          "output_type": "stream",
          "text": [
            "AUC score:  0.9045617383331024\n"
          ],
          "name": "stdout"
        }
      ]
    },
    {
      "cell_type": "code",
      "metadata": {
        "colab": {
          "base_uri": "https://localhost:8080/",
          "height": 313
        },
        "id": "uy7XB-wiIGAn",
        "outputId": "e1dea65c-d3d3-4499-8b32-7650f2fb5d50"
      },
      "source": [
        "from sklearn.metrics import roc_curve\n",
        "import matplotlib.pyplot as plt\n",
        "\n",
        "fpr, tpr, thresholds = roc_curve(y_val, y_pred_proba)\n",
        "\n",
        "plt.scatter(fpr, tpr, color='blue')\n",
        "plt.plot(fpr, tpr, color='green')\n",
        "plt.title('ROC curve')\n",
        "plt.xlabel('FPR')\n",
        "plt.ylabel('TPR')"
      ],
      "execution_count": 143,
      "outputs": [
        {
          "output_type": "execute_result",
          "data": {
            "text/plain": [
              "Text(0, 0.5, 'TPR')"
            ]
          },
          "metadata": {
            "tags": []
          },
          "execution_count": 143
        },
        {
          "output_type": "display_data",
          "data": {
            "image/png": "[encoded data removed]",
            "text/plain": [
              "<Figure size 432x288 with 1 Axes>"
            ]
          },
          "metadata": {
            "tags": [],
            "needs_background": "light"
          }
        }
      ]
    },
    {
      "cell_type": "markdown",
      "metadata": {
        "id": "Yms99psBsis9"
      },
      "source": [
        "### RandomForest 결과"
      ]
    },
    {
      "cell_type": "code",
      "metadata": {
        "colab": {
          "base_uri": "https://localhost:8080/"
        },
        "id": "LkC5fYq5sYxF",
        "outputId": "b108f952-0ce2-4c8a-b241-53710acbfe1b"
      },
      "source": [
        "from sklearn.metrics import classification_report\n",
        "y_pred = pipe.predict(X_test)\n",
        "print(classification_report(y_test, y_pred))\n",
        "\n",
        "from sklearn.metrics import roc_auc_score\n",
        "\n",
        "y_pred_proba = pipe.predict_proba(X_test)[:, -1]\n",
        "print('AUC score: ', roc_auc_score(y_test, y_pred_proba))"
      ],
      "execution_count": 173,
      "outputs": [
        {
          "output_type": "stream",
          "text": [
            "              precision    recall  f1-score   support\n",
            "\n",
            "         0.0       0.96      0.98      0.97      2168\n",
            "         1.0       0.95      0.91      0.93       948\n",
            "\n",
            "    accuracy                           0.96      3116\n",
            "   macro avg       0.96      0.94      0.95      3116\n",
            "weighted avg       0.96      0.96      0.96      3116\n",
            "\n",
            "AUC score:  0.9710256200663272\n"
          ],
          "name": "stdout"
        }
      ]
    },
    {
      "cell_type": "code",
      "metadata": {
        "colab": {
          "base_uri": "https://localhost:8080/",
          "height": 313
        },
        "id": "UV2Fk5Ntstcv",
        "outputId": "a40f1fb0-4f5e-4ad1-c1ae-87e1197951de"
      },
      "source": [
        "from sklearn.metrics import roc_curve\n",
        "import matplotlib.pyplot as plt\n",
        "\n",
        "fpr, tpr, thresholds = roc_curve(y_test, y_pred_proba)\n",
        "\n",
        "plt.scatter(fpr, tpr, color='blue')\n",
        "plt.plot(fpr, tpr, color='green')\n",
        "plt.title('ROC curve')\n",
        "plt.xlabel('FPR')\n",
        "plt.ylabel('TPR')"
      ],
      "execution_count": 174,
      "outputs": [
        {
          "output_type": "execute_result",
          "data": {
            "text/plain": [
              "Text(0, 0.5, 'TPR')"
            ]
          },
          "metadata": {
            "tags": []
          },
          "execution_count": 174
        },
        {
          "output_type": "display_data",
          "data": {
            "image/png": "[encoded data removed]",
            "text/plain": [
              "<Figure size 432x288 with 1 Axes>"
            ]
          },
          "metadata": {
            "tags": [],
            "needs_background": "light"
          }
        }
      ]
    },
    {
      "cell_type": "code",
      "metadata": {
        "colab": {
          "base_uri": "https://localhost:8080/"
        },
        "id": "7ODeeThLmT7t",
        "outputId": "cb03ad40-7f13-4b34-f6d8-8a45018accfe"
      },
      "source": [
        "pipe.classes_"
      ],
      "execution_count": 157,
      "outputs": [
        {
          "output_type": "execute_result",
          "data": {
            "text/plain": [
              "array([0, 1])"
            ]
          },
          "metadata": {
            "tags": []
          },
          "execution_count": 157
        }
      ]
    },
    {
      "cell_type": "code",
      "metadata": {
        "colab": {
          "base_uri": "https://localhost:8080/"
        },
        "id": "si4pOS6pmdx1",
        "outputId": "578f5f49-1307-4bf6-8d2d-52086c585e3a"
      },
      "source": [
        "pipe.predict(X_test)"
      ],
      "execution_count": 158,
      "outputs": [
        {
          "output_type": "execute_result",
          "data": {
            "text/plain": [
              "array([1, 1, 0, ..., 0, 1, 0])"
            ]
          },
          "metadata": {
            "tags": []
          },
          "execution_count": 158
        }
      ]
    },
    {
      "cell_type": "code",
      "metadata": {
        "colab": {
          "base_uri": "https://localhost:8080/"
        },
        "id": "fRb2Jhcuoyyc",
        "outputId": "9ff59ece-e349-4e7d-81fb-29c038105a7c"
      },
      "source": [
        "pipe.predict_proba(X_test)"
      ],
      "execution_count": 160,
      "outputs": [
        {
          "output_type": "execute_result",
          "data": {
            "text/plain": [
              "array([[0.  , 1.  ],\n",
              "       [0.33, 0.67],\n",
              "       [0.74, 0.26],\n",
              "       ...,\n",
              "       [0.99, 0.01],\n",
              "       [0.  , 1.  ],\n",
              "       [0.98, 0.02]])"
            ]
          },
          "metadata": {
            "tags": []
          },
          "execution_count": 160
        }
      ]
    },
    {
      "cell_type": "code",
      "metadata": {
        "colab": {
          "base_uri": "https://localhost:8080/"
        },
        "id": "vbwL9yrio6x0",
        "outputId": "690af618-c3a2-448e-fb85-5302ecb1f9d7"
      },
      "source": [
        "y_pred_proba = pipe.predict_proba(X_test)[:, 1]\n",
        "y_pred_proba"
      ],
      "execution_count": 163,
      "outputs": [
        {
          "output_type": "execute_result",
          "data": {
            "text/plain": [
              "array([1.  , 0.67, 0.26, ..., 0.01, 1.  , 0.02])"
            ]
          },
          "metadata": {
            "tags": []
          },
          "execution_count": 163
        }
      ]
    },
    {
      "cell_type": "code",
      "metadata": {
        "id": "cFFO2yFBpdiU"
      },
      "source": [
        "t = pipe.predict(X_test)"
      ],
      "execution_count": 167,
      "outputs": []
    },
    {
      "cell_type": "code",
      "metadata": {
        "colab": {
          "base_uri": "https://localhost:8080/",
          "height": 419
        },
        "id": "1KiJokwrpP43",
        "outputId": "b7c16352-2e75-4740-f742-55a27c4a1f4f"
      },
      "source": [
        "pd.DataFrame({\"prob\" : y_pred_proba, \"predict\" : t, \"y_test\" : y_test})"
      ],
      "execution_count": 172,
      "outputs": [
        {
          "output_type": "execute_result",
          "data": {
            "text/html": [
              "<div>\n",
              "<style scoped>\n",
              "    .dataframe tbody tr th:only-of-type {\n",
              "        vertical-align: middle;\n",
              "    }\n",
              "\n",
              "    .dataframe tbody tr th {\n",
              "        vertical-align: top;\n",
              "    }\n",
              "\n",
              "    .dataframe thead th {\n",
              "        text-align: right;\n",
              "    }\n",
              "</style>\n",
              "<table border=\"1\" class=\"dataframe\">\n",
              "  <thead>\n",
              "    <tr style=\"text-align: right;\">\n",
              "      <th></th>\n",
              "      <th>prob</th>\n",
              "      <th>predict</th>\n",
              "      <th>y_test</th>\n",
              "    </tr>\n",
              "  </thead>\n",
              "  <tbody>\n",
              "    <tr>\n",
              "      <th>0</th>\n",
              "      <td>1.000000</td>\n",
              "      <td>1</td>\n",
              "      <td>1.0</td>\n",
              "    </tr>\n",
              "    <tr>\n",
              "      <th>1</th>\n",
              "      <td>0.670000</td>\n",
              "      <td>1</td>\n",
              "      <td>1.0</td>\n",
              "    </tr>\n",
              "    <tr>\n",
              "      <th>2</th>\n",
              "      <td>0.260000</td>\n",
              "      <td>0</td>\n",
              "      <td>0.0</td>\n",
              "    </tr>\n",
              "    <tr>\n",
              "      <th>3</th>\n",
              "      <td>0.000000</td>\n",
              "      <td>0</td>\n",
              "      <td>0.0</td>\n",
              "    </tr>\n",
              "    <tr>\n",
              "      <th>4</th>\n",
              "      <td>0.080000</td>\n",
              "      <td>0</td>\n",
              "      <td>1.0</td>\n",
              "    </tr>\n",
              "    <tr>\n",
              "      <th>...</th>\n",
              "      <td>...</td>\n",
              "      <td>...</td>\n",
              "      <td>...</td>\n",
              "    </tr>\n",
              "    <tr>\n",
              "      <th>3111</th>\n",
              "      <td>0.581429</td>\n",
              "      <td>1</td>\n",
              "      <td>1.0</td>\n",
              "    </tr>\n",
              "    <tr>\n",
              "      <th>3112</th>\n",
              "      <td>0.640000</td>\n",
              "      <td>1</td>\n",
              "      <td>1.0</td>\n",
              "    </tr>\n",
              "    <tr>\n",
              "      <th>3113</th>\n",
              "      <td>0.010000</td>\n",
              "      <td>0</td>\n",
              "      <td>0.0</td>\n",
              "    </tr>\n",
              "    <tr>\n",
              "      <th>3114</th>\n",
              "      <td>1.000000</td>\n",
              "      <td>1</td>\n",
              "      <td>1.0</td>\n",
              "    </tr>\n",
              "    <tr>\n",
              "      <th>3115</th>\n",
              "      <td>0.020000</td>\n",
              "      <td>0</td>\n",
              "      <td>0.0</td>\n",
              "    </tr>\n",
              "  </tbody>\n",
              "</table>\n",
              "<p>3116 rows × 3 columns</p>\n",
              "</div>"
            ],
            "text/plain": [
              "          prob  predict  y_test\n",
              "0     1.000000        1     1.0\n",
              "1     0.670000        1     1.0\n",
              "2     0.260000        0     0.0\n",
              "3     0.000000        0     0.0\n",
              "4     0.080000        0     1.0\n",
              "...        ...      ...     ...\n",
              "3111  0.581429        1     1.0\n",
              "3112  0.640000        1     1.0\n",
              "3113  0.010000        0     0.0\n",
              "3114  1.000000        1     1.0\n",
              "3115  0.020000        0     0.0\n",
              "\n",
              "[3116 rows x 3 columns]"
            ]
          },
          "metadata": {
            "tags": []
          },
          "execution_count": 172
        }
      ]
    },
    {
      "cell_type": "markdown",
      "metadata": {
        "id": "HEesJ-4xTO6o"
      },
      "source": [
        "## SVM"
      ]
    },
    {
      "cell_type": "code",
      "metadata": {
        "id": "jiB4BLxzvu4f"
      },
      "source": [
        "from sklearn import svm\n",
        "\n",
        "model_params = {\n",
        "    'svm': {\n",
        "        'model': svm.SVC(gamma='auto'),\n",
        "        'params' : {\n",
        "            'C': [10],\n",
        "            'kernel': ['rbf']\n",
        "        }  \n",
        "    }\n",
        "}"
      ],
      "execution_count": 144,
      "outputs": []
    },
    {
      "cell_type": "code",
      "metadata": {
        "colab": {
          "base_uri": "https://localhost:8080/",
          "height": 80
        },
        "id": "HHt76kAe6gsS",
        "outputId": "fb995978-1802-444f-d8f7-a79ebc799ddc"
      },
      "source": [
        "from sklearn.metrics import confusion_matrix, precision_score, recall_score, roc_curve, f1_score, auc\n",
        "from sklearn.model_selection import GridSearchCV\n",
        "\n",
        "scores = []\n",
        "\n",
        "for model_name, mp in model_params.items():\n",
        "    \n",
        "    clf =  GridSearchCV(mp['model'], mp['params'], cv=5, return_train_score=False)\n",
        "    clf.fit(X_train, y_train)\n",
        "    clf.score(X_val, y_val)\n",
        "\n",
        "    y_predicted = clf.predict(X_val)\n",
        "    conf_matx = confusion_matrix(y_val, y_predicted)\n",
        "\n",
        "    # define pos label in order to calculate precision, recall, F1-Score, ROC \n",
        "    # for a ##specific Class\n",
        "    positive_lbl = 1\n",
        "    fpr, tpr, _ = roc_curve(y_val, y_predicted, pos_label = positive_lbl)\n",
        "    roc_auc = auc(fpr, tpr)\n",
        "\n",
        "    precision = precision_score(y_true=y_val, y_pred=y_predicted, average='macro', pos_label = positive_lbl)\n",
        "    recall = recall_score(y_true=y_val, y_pred=y_predicted, average='macro', pos_label = positive_lbl)\n",
        "    f1_scor = f1_score(y_true=y_val, y_pred=y_predicted, average='macro', pos_label = positive_lbl)\n",
        "    \n",
        "    scores.append({\n",
        "        'model': model_name,\n",
        "        'best_score': clf.best_score_,\n",
        "        'best_params': clf.best_params_,\n",
        "        'c_matrix': conf_matx ,\n",
        "        'roc_auc' : roc_auc,\n",
        "        'precision' : precision,\n",
        "        'recall' : recall,\n",
        "        'f1_score' : f1_scor,\n",
        "        'tpr' : tpr,\n",
        "        'fpr' : fpr\n",
        "    })\n",
        "    \n",
        "\n",
        "df = pd.DataFrame(scores,columns=['model','best_score','best_params', 'c_matrix', 'roc_auc', \n",
        "                                  'precision', 'recall', 'f1_score', 'tpr', 'fpr'])\n",
        "\n",
        "df[['model','best_score','best_params']]\n"
      ],
      "execution_count": 145,
      "outputs": [
        {
          "output_type": "execute_result",
          "data": {
            "text/html": [
              "<div>\n",
              "<style scoped>\n",
              "    .dataframe tbody tr th:only-of-type {\n",
              "        vertical-align: middle;\n",
              "    }\n",
              "\n",
              "    .dataframe tbody tr th {\n",
              "        vertical-align: top;\n",
              "    }\n",
              "\n",
              "    .dataframe thead th {\n",
              "        text-align: right;\n",
              "    }\n",
              "</style>\n",
              "<table border=\"1\" class=\"dataframe\">\n",
              "  <thead>\n",
              "    <tr style=\"text-align: right;\">\n",
              "      <th></th>\n",
              "      <th>model</th>\n",
              "      <th>best_score</th>\n",
              "      <th>best_params</th>\n",
              "    </tr>\n",
              "  </thead>\n",
              "  <tbody>\n",
              "    <tr>\n",
              "      <th>0</th>\n",
              "      <td>svm</td>\n",
              "      <td>0.765434</td>\n",
              "      <td>{'C': 10, 'kernel': 'rbf'}</td>\n",
              "    </tr>\n",
              "  </tbody>\n",
              "</table>\n",
              "</div>"
            ],
            "text/plain": [
              "  model  best_score                 best_params\n",
              "0   svm    0.765434  {'C': 10, 'kernel': 'rbf'}"
            ]
          },
          "metadata": {
            "tags": []
          },
          "execution_count": 145
        }
      ]
    },
    {
      "cell_type": "code",
      "metadata": {
        "id": "eHh8AJI872uw"
      },
      "source": [
        "%matplotlib inline\n",
        "import matplotlib.pyplot as plt\n",
        "import seaborn as sn\n",
        "\n",
        "c_matx = df['c_matrix']\n",
        "roc_auc = df['roc_auc']\n",
        "tpr =  df['tpr']\n",
        "fpr = df['fpr']\n",
        "\n",
        "def plot_roc(roc_index, title):\n",
        "  plt.figure()\n",
        "  lw = 2\n",
        "  plt.plot(fpr[roc_index], tpr[roc_index], color='darkorange',\n",
        "          lw=lw, label='ROC curve (area = %0.2f)' % roc_auc[roc_index])\n",
        "  plt.plot([0, 1], [0, 1], color='navy', lw=lw, linestyle='--')\n",
        "  plt.xlim([0.0, 1.0])\n",
        "  plt.ylim([0.0, 1.05])\n",
        "  plt.xlabel('False Positive Rate')\n",
        "  plt.ylabel('True Positive Rate')\n",
        "  plt.title('ROC : '+title)\n",
        "  plt.legend(loc=\"lower right\")\n",
        "  plt.show()\n",
        "\n",
        "\n",
        "def plot_cmatricx(c_matx_index, title):\n",
        "  plt.figure(figsize = (5,4))\n",
        "  sn.heatmap(c_matx[c_matx_index], annot=True)\n",
        "  plt.title('Confusion Matricx : '+ title)\n",
        "  plt.xlabel('Predicted')\n",
        "  plt.ylabel('Truth')\n",
        "\n",
        "def otherValues(index):\n",
        "  print('Accuracy :', df['best_score'][index])\n",
        "  print('Precision :', df['precision'][index])\n",
        "  print('Recall :', df['recall'][index])\n",
        "  print('F1-Score :', df['f1_score'][index])"
      ],
      "execution_count": 146,
      "outputs": []
    },
    {
      "cell_type": "code",
      "metadata": {
        "colab": {
          "base_uri": "https://localhost:8080/",
          "height": 645
        },
        "id": "8B0Ku0I98FAY",
        "outputId": "51cd4f18-44ce-4529-9181-0ba139c38683"
      },
      "source": [
        "title = 'svm_rbf'\n",
        "index = 0\n",
        "plot_cmatricx(index, title)\n",
        "plot_roc(index, title)\n",
        "otherValues(index)"
      ],
      "execution_count": 147,
      "outputs": [
        {
          "output_type": "display_data",
          "data": {
            "image/png": "[encoded data removed]",
            "text/plain": [
              "<Figure size 360x288 with 2 Axes>"
            ]
          },
          "metadata": {
            "tags": [],
            "needs_background": "light"
          }
        },
        {
          "output_type": "display_data",
          "data": {
            "image/png": "[encoded data removed]",
            "text/plain": [
              "<Figure size 432x288 with 1 Axes>"
            ]
          },
          "metadata": {
            "tags": [],
            "needs_background": "light"
          }
        },
        {
          "output_type": "stream",
          "text": [
            "Accuracy : 0.7654341883993667\n",
            "Precision : 0.8570315611893438\n",
            "Recall : 0.6218487114968387\n",
            "F1-Score : 0.6265204596252588\n"
          ],
          "name": "stdout"
        }
      ]
    },
    {
      "cell_type": "markdown",
      "metadata": {
        "id": "67yEXHB18Sml"
      },
      "source": [
        "## Neural Network"
      ]
    },
    {
      "cell_type": "code",
      "metadata": {
        "colab": {
          "base_uri": "https://localhost:8080/"
        },
        "id": "CRKOI7o4UL_B",
        "outputId": "7b0d84d6-5327-430a-cc08-9b1d29f1fea3"
      },
      "source": [
        "# ensure all data are floating point values\n",
        "X = X.astype('float32')\n",
        "y = y.astype('float32')\n",
        "# encode strings to integer\n",
        "# y = LabelEncoder().fit_transform(y)\n",
        "\n",
        "# split into train and test datasets\n",
        "X_train, X_test, y_train, y_test = train_test_split(X, y, test_size=0.33)\n",
        "print(X_train.shape, X_test.shape, y_train.shape, y_test.shape)\n",
        "\n",
        "# determine the number of input features\n",
        "n_features = X_train.shape[1]"
      ],
      "execution_count": 148,
      "outputs": [
        {
          "output_type": "stream",
          "text": [
            "(6325, 22) (3116, 22) (6325,) (3116,)\n"
          ],
          "name": "stdout"
        }
      ]
    },
    {
      "cell_type": "code",
      "metadata": {
        "colab": {
          "base_uri": "https://localhost:8080/"
        },
        "id": "5dq-zC2w-8xB",
        "outputId": "9435b942-d970-4a47-ba0f-e8b0969fdbce"
      },
      "source": [
        "import numpy as np\n",
        "\n",
        "X_train = np.array(X_train)\n",
        "X_test = np.array(X_test)\n",
        "y_train = np.array(y_train)\n",
        "y_test = np.array(y_test)\n",
        "\n",
        "print(X_train.shape, X_test.shape, y_train.shape, y_test.shape)"
      ],
      "execution_count": 149,
      "outputs": [
        {
          "output_type": "stream",
          "text": [
            "(6325, 22) (3116, 22) (6325,) (3116,)\n"
          ],
          "name": "stdout"
        }
      ]
    },
    {
      "cell_type": "code",
      "metadata": {
        "colab": {
          "base_uri": "https://localhost:8080/"
        },
        "id": "oKAoNvLD_KGh",
        "outputId": "d23bdf33-dee7-433a-92f3-8b922e32e9ae"
      },
      "source": [
        "X_train1 = X_train.reshape((X_train.shape[0], X_train.shape[1], 1))\n",
        "X_test1 = X_test.reshape((X_test.shape[0], X_test.shape[1], 1))\n",
        "y_train1 = np.array(y_train)\n",
        "y_test1 = np.array(y_test)\n",
        "\n",
        "print(X_train1.shape, X_test1.shape, y_train1.shape, y_test1.shape)"
      ],
      "execution_count": 150,
      "outputs": [
        {
          "output_type": "stream",
          "text": [
            "(6325, 22, 1) (3116, 22, 1) (6325,) (3116,)\n"
          ],
          "name": "stdout"
        }
      ]
    },
    {
      "cell_type": "markdown",
      "metadata": {
        "id": "LR7Ptg2n_NDH"
      },
      "source": [
        "## Multi-layer Perceptron (MLP)"
      ]
    },
    {
      "cell_type": "code",
      "metadata": {
        "colab": {
          "base_uri": "https://localhost:8080/"
        },
        "id": "Pulads53ADk4",
        "outputId": "7771e02a-bb72-4ea6-c008-d1e366666a9e"
      },
      "source": [
        "!pip install tensorflow-addons\n"
      ],
      "execution_count": 151,
      "outputs": [
        {
          "output_type": "stream",
          "text": [
            "Requirement already satisfied: tensorflow-addons in /usr/local/lib/python3.7/dist-packages (0.13.0)\n",
            "Requirement already satisfied: typeguard>=2.7 in /usr/local/lib/python3.7/dist-packages (from tensorflow-addons) (2.7.1)\n"
          ],
          "name": "stdout"
        }
      ]
    },
    {
      "cell_type": "code",
      "metadata": {
        "id": "iZbcqAav_vGW"
      },
      "source": [
        "import tensorflow as tf\n",
        "import tensorflow_addons as tfa\n",
        "\n",
        "from tensorflow import keras\n",
        "from tensorflow.keras import layers\n",
        "from tensorflow.keras import Sequential\n",
        "from tensorflow.keras.layers import Dense\n",
        "from tensorflow.keras.layers import LSTM\n",
        "from sklearn.model_selection import train_test_split"
      ],
      "execution_count": 152,
      "outputs": []
    },
    {
      "cell_type": "code",
      "metadata": {
        "colab": {
          "base_uri": "https://localhost:8080/"
        },
        "id": "tifb40ym_Ltk",
        "outputId": "0c451783-6c39-454d-b9f1-3b4c3732f52a"
      },
      "source": [
        "n_features = X_train.shape[1]\n",
        "\n",
        "# define model\n",
        "model = Sequential()\n",
        "model.add(Dense(10, activation='relu', kernel_initializer='he_normal', input_shape=(n_features,)))\n",
        "model.add(Dense(8, activation='relu', kernel_initializer='he_normal'))\n",
        "model.add(Dense(1, activation='sigmoid'))\n",
        "\n",
        "# compile the model\n",
        "model.compile(loss='binary_crossentropy', optimizer='adam', \n",
        "              metrics= ['accuracy',tf.keras.metrics.Precision(name='precision'), \n",
        "                        tf.keras.metrics.Recall(name = 'recall'),\n",
        "                        tfa.metrics.F1Score(num_classes= 1, name = 'f1_score') \n",
        "                    ])\n",
        "# fit the model\n",
        "model.fit(X_train, y_train, epochs=100, batch_size=32, verbose=0)\n",
        "\n",
        "# # evaluate the model\n",
        "# loss, acc = model.evaluate(X_test, y_test, verbose=0)\n",
        "# print('Test Accuracy: %.3f' % acc)\n",
        "\n",
        "num_epochs = 10\n",
        "history = model.fit(X_train, y_train, batch_size=32, epochs=num_epochs, \n",
        "          validation_data=(X_test, y_test))"
      ],
      "execution_count": 153,
      "outputs": [
        {
          "output_type": "stream",
          "text": [
            "Epoch 1/10\n",
            "198/198 [==============================] - 2s 8ms/step - loss: 159.5284 - accuracy: 0.7462 - precision: 0.5830 - recall: 0.5278 - f1_score: 0.5994 - val_loss: 1424.6254 - val_accuracy: 0.3042 - val_precision: 0.3042 - val_recall: 1.0000 - val_f1_score: 0.4665\n",
            "Epoch 2/10\n",
            "198/198 [==============================] - 1s 6ms/step - loss: 177.8368 - accuracy: 0.7374 - precision: 0.5804 - recall: 0.4357 - f1_score: 0.5587 - val_loss: 39.3523 - val_accuracy: 0.8017 - val_precision: 0.6387 - val_recall: 0.8017 - val_f1_score: 0.6791\n",
            "Epoch 3/10\n",
            "198/198 [==============================] - 1s 6ms/step - loss: 150.9512 - accuracy: 0.7317 - precision: 0.5520 - recall: 0.5394 - f1_score: 0.5984 - val_loss: 42.8872 - val_accuracy: 0.8068 - val_precision: 0.6494 - val_recall: 0.7932 - val_f1_score: 0.6905\n",
            "Epoch 4/10\n",
            "198/198 [==============================] - 1s 6ms/step - loss: 327.3970 - accuracy: 0.7238 - precision: 0.5472 - recall: 0.4357 - f1_score: 0.5335 - val_loss: 734.2213 - val_accuracy: 0.6970 - val_precision: 0.5833 - val_recall: 0.0148 - val_f1_score: 0.0636\n",
            "Epoch 5/10\n",
            "198/198 [==============================] - 1s 6ms/step - loss: 466.7462 - accuracy: 0.7048 - precision: 0.5117 - recall: 0.2541 - f1_score: 0.4124 - val_loss: 873.4302 - val_accuracy: 0.6974 - val_precision: 0.6316 - val_recall: 0.0127 - val_f1_score: 0.0466\n",
            "Epoch 6/10\n",
            "198/198 [==============================] - 1s 5ms/step - loss: 268.2997 - accuracy: 0.7387 - precision: 0.5723 - recall: 0.4944 - f1_score: 0.5700 - val_loss: 184.9117 - val_accuracy: 0.7429 - val_precision: 0.7860 - val_recall: 0.2131 - val_f1_score: 0.6177\n",
            "Epoch 7/10\n",
            "198/198 [==============================] - 1s 5ms/step - loss: 424.4062 - accuracy: 0.7135 - precision: 0.5376 - recall: 0.2912 - f1_score: 0.4476 - val_loss: 258.6960 - val_accuracy: 0.7407 - val_precision: 0.7991 - val_recall: 0.1973 - val_f1_score: 0.3466\n",
            "Epoch 8/10\n",
            "198/198 [==============================] - 1s 6ms/step - loss: 230.4007 - accuracy: 0.7238 - precision: 0.5438 - recall: 0.4669 - f1_score: 0.5475 - val_loss: 573.2060 - val_accuracy: 0.3042 - val_precision: 0.3042 - val_recall: 1.0000 - val_f1_score: 0.4665\n",
            "Epoch 9/10\n",
            "198/198 [==============================] - 1s 6ms/step - loss: 472.0459 - accuracy: 0.7018 - precision: 0.5018 - recall: 0.2155 - f1_score: 0.3861 - val_loss: 121.2765 - val_accuracy: 0.8046 - val_precision: 0.7712 - val_recall: 0.5084 - val_f1_score: 0.7002\n",
            "Epoch 10/10\n",
            "198/198 [==============================] - 1s 5ms/step - loss: 155.0334 - accuracy: 0.7328 - precision: 0.5645 - recall: 0.4611 - f1_score: 0.5695 - val_loss: 1190.1543 - val_accuracy: 0.6970 - val_precision: 0.6250 - val_recall: 0.0105 - val_f1_score: 0.0309\n"
          ],
          "name": "stdout"
        }
      ]
    },
    {
      "cell_type": "markdown",
      "metadata": {
        "id": "YdO_Bx0hAQYo"
      },
      "source": [
        "## LSTM"
      ]
    },
    {
      "cell_type": "code",
      "metadata": {
        "colab": {
          "base_uri": "https://localhost:8080/"
        },
        "id": "1_8FcKuCAPiW",
        "outputId": "3ecfe0b4-c51e-452c-8524-35222c0be2ba"
      },
      "source": [
        "\n",
        "# define model\n",
        "model = Sequential()\n",
        "model.add(LSTM(100, activation='relu', kernel_initializer='he_normal', input_shape=(n_features,1)))\n",
        "model.add(Dense(50, activation='relu', kernel_initializer='he_normal'))\n",
        "model.add(Dense(10, activation='relu', kernel_initializer='he_normal'))\n",
        "model.add(Dense(1, activation='sigmoid'))\n",
        "\n",
        "\n",
        "model.compile(loss='binary_crossentropy', optimizer='adam', \n",
        "              metrics= ['accuracy',tf.keras.metrics.Precision(name='precision'), \n",
        "                        tf.keras.metrics.Recall(name = 'recall'),\n",
        "                        tfa.metrics.F1Score(num_classes= 1, name = 'f1_score') \n",
        "                    ])\n",
        "\n",
        "\n",
        "num_epochs = 10\n",
        "history = model.fit(X_train1, y_train1, batch_size=32, epochs=num_epochs, \n",
        "          validation_data=(X_val1, y_val1))"
      ],
      "execution_count": 154,
      "outputs": [
        {
          "output_type": "stream",
          "text": [
            "WARNING:tensorflow:Layer lstm_5 will not use cuDNN kernels since it doesn't meet the criteria. It will use a generic GPU kernel as fallback when running on GPU.\n",
            "Epoch 1/10\n",
            "198/198 [==============================] - 11s 46ms/step - loss: 30722.7188 - accuracy: 0.6683 - precision: 0.3244 - recall: 0.1022 - f1_score: 0.1634 - val_loss: 3141.9648 - val_accuracy: 0.7035 - val_precision: 1.0000 - val_recall: 0.0141 - val_f1_score: 0.0312\n",
            "Epoch 2/10\n",
            "198/198 [==============================] - 9s 43ms/step - loss: 14564.7871 - accuracy: 0.6697 - precision: 0.3221 - recall: 0.0958 - f1_score: 0.1707 - val_loss: 4635.3784 - val_accuracy: 0.6993 - val_precision: 0.0000e+00 - val_recall: 0.0000e+00 - val_f1_score: 0.0000e+00\n",
            "Epoch 3/10\n",
            "198/198 [==============================] - 8s 43ms/step - loss: 7939.7061 - accuracy: 0.6830 - precision: 0.3415 - recall: 0.0662 - f1_score: 0.1231 - val_loss: 428.4186 - val_accuracy: 0.6517 - val_precision: 0.4554 - val_recall: 0.8081 - val_f1_score: 0.5768\n",
            "Epoch 4/10\n",
            "198/198 [==============================] - 8s 43ms/step - loss: 11213.7637 - accuracy: 0.6809 - precision: 0.3842 - recall: 0.1133 - f1_score: 0.1953 - val_loss: 4531.0801 - val_accuracy: 0.6993 - val_precision: 0.0000e+00 - val_recall: 0.0000e+00 - val_f1_score: 0.0278\n",
            "Epoch 5/10\n",
            "198/198 [==============================] - 9s 43ms/step - loss: 9854.6553 - accuracy: 0.6727 - precision: 0.3134 - recall: 0.0805 - f1_score: 0.1402 - val_loss: 12005.3262 - val_accuracy: 0.6993 - val_precision: 0.0000e+00 - val_recall: 0.0000e+00 - val_f1_score: 0.0000e+00\n",
            "Epoch 6/10\n",
            "198/198 [==============================] - 9s 43ms/step - loss: 8472.8564 - accuracy: 0.6681 - precision: 0.3132 - recall: 0.0932 - f1_score: 0.1502 - val_loss: 14664.1904 - val_accuracy: 0.6993 - val_precision: 0.0000e+00 - val_recall: 0.0000e+00 - val_f1_score: 0.0000e+00\n",
            "Epoch 7/10\n",
            "198/198 [==============================] - 8s 43ms/step - loss: 13937.0635 - accuracy: 0.6852 - precision: 0.3768 - recall: 0.0826 - f1_score: 0.1543 - val_loss: 10706.0254 - val_accuracy: 0.7035 - val_precision: 1.0000 - val_recall: 0.0141 - val_f1_score: 0.0278\n",
            "Epoch 8/10\n",
            "198/198 [==============================] - 9s 43ms/step - loss: 9196.2646 - accuracy: 0.6858 - precision: 0.4143 - recall: 0.1255 - f1_score: 0.1998 - val_loss: 6419.4219 - val_accuracy: 0.7554 - val_precision: 0.5784 - val_recall: 0.6884 - val_f1_score: 0.6292\n",
            "Epoch 9/10\n",
            "198/198 [==============================] - 9s 43ms/step - loss: 10966.2266 - accuracy: 0.6830 - precision: 0.3889 - recall: 0.1075 - f1_score: 0.1810 - val_loss: 11694.2559 - val_accuracy: 0.6993 - val_precision: 0.0000e+00 - val_recall: 0.0000e+00 - val_f1_score: 0.0243\n",
            "Epoch 10/10\n",
            "198/198 [==============================] - 9s 43ms/step - loss: 5625.5420 - accuracy: 0.6800 - precision: 0.3973 - recall: 0.1382 - f1_score: 0.2136 - val_loss: 23756.3281 - val_accuracy: 0.6993 - val_precision: 0.0000e+00 - val_recall: 0.0000e+00 - val_f1_score: 0.0000e+00\n"
          ],
          "name": "stdout"
        }
      ]
    },
    {
      "cell_type": "markdown",
      "metadata": {
        "id": "oE6D9LJGAc2S"
      },
      "source": [
        "## CNN"
      ]
    },
    {
      "cell_type": "code",
      "metadata": {
        "colab": {
          "base_uri": "https://localhost:8080/"
        },
        "id": "AfXtpuT4Aepv",
        "outputId": "ff74e4eb-d5dc-4aaf-d042-c67a3df373be"
      },
      "source": [
        "model = tf.keras.Sequential([\n",
        "     tf.keras.layers.LSTM(135, return_sequences=True, activation='relu', kernel_initializer='he_normal', input_shape=(n_features,1)),\n",
        "    tf.keras.layers.LSTM(270, return_sequences=True),\n",
        "    tf.keras.layers.Conv1D(16, 5, activation='relu'),\n",
        "    tf.keras.layers.MaxPooling1D(pool_size=4),\n",
        "    tf.keras.layers.LSTM(16),\n",
        "    tf.keras.layers.Dense(1, activation='sigmoid')\n",
        "])\n",
        "\n",
        "\n",
        "model.compile(loss='binary_crossentropy', optimizer='adam', \n",
        "              metrics= ['accuracy',tf.keras.metrics.Precision(name='precision'), \n",
        "                        tf.keras.metrics.Recall(name = 'recall'),\n",
        "                        tfa.metrics.F1Score(num_classes= 1, name = 'f1_score') \n",
        "                    ])\n",
        "\n",
        "\n",
        "num_epochs = 10\n",
        "history = model.fit(X_train1, y_train1, batch_size=32, epochs=num_epochs, \n",
        "          validation_data=(X_val1, y_val1))"
      ],
      "execution_count": 176,
      "outputs": [
        {
          "output_type": "stream",
          "text": [
            "WARNING:tensorflow:Layer lstm_9 will not use cuDNN kernels since it doesn't meet the criteria. It will use a generic GPU kernel as fallback when running on GPU.\n",
            "Epoch 1/10\n",
            "198/198 [==============================] - 15s 54ms/step - loss: 0.4398 - accuracy: 0.8068 - precision: 0.7139 - recall: 0.5892 - f1_score: 0.4599 - val_loss: 0.4167 - val_accuracy: 0.8190 - val_precision: 0.8576 - val_recall: 0.4771 - val_f1_score: 0.4624\n",
            "Epoch 2/10\n",
            "198/198 [==============================] - 9s 47ms/step - loss: 0.4025 - accuracy: 0.8248 - precision: 0.7956 - recall: 0.5564 - f1_score: 0.4599 - val_loss: 0.4483 - val_accuracy: 0.7941 - val_precision: 0.6371 - val_recall: 0.7324 - val_f1_score: 0.4624\n",
            "Epoch 3/10\n",
            "198/198 [==============================] - 9s 48ms/step - loss: 0.3920 - accuracy: 0.8292 - precision: 0.8039 - recall: 0.5664 - f1_score: 0.4599 - val_loss: 0.3689 - val_accuracy: 0.8306 - val_precision: 0.9397 - val_recall: 0.4665 - val_f1_score: 0.4624\n",
            "Epoch 4/10\n",
            "198/198 [==============================] - 9s 47ms/step - loss: 0.3680 - accuracy: 0.8337 - precision: 0.8202 - recall: 0.5675 - f1_score: 0.4599 - val_loss: 0.3775 - val_accuracy: 0.8285 - val_precision: 0.9236 - val_recall: 0.4683 - val_f1_score: 0.4624\n",
            "Epoch 5/10\n",
            "198/198 [==============================] - 9s 47ms/step - loss: 0.3738 - accuracy: 0.8368 - precision: 0.8604 - recall: 0.5416 - f1_score: 0.4599 - val_loss: 0.4286 - val_accuracy: 0.8062 - val_precision: 0.9720 - val_recall: 0.3662 - val_f1_score: 0.4624\n",
            "Epoch 6/10\n",
            "198/198 [==============================] - 9s 47ms/step - loss: 0.3720 - accuracy: 0.8372 - precision: 0.8251 - recall: 0.5770 - f1_score: 0.4599 - val_loss: 0.3858 - val_accuracy: 0.8227 - val_precision: 0.9267 - val_recall: 0.4454 - val_f1_score: 0.4624\n",
            "Epoch 7/10\n",
            "198/198 [==============================] - 9s 47ms/step - loss: 0.3633 - accuracy: 0.8417 - precision: 0.8541 - recall: 0.5670 - f1_score: 0.4599 - val_loss: 0.3644 - val_accuracy: 0.8295 - val_precision: 0.8015 - val_recall: 0.5757 - val_f1_score: 0.4624\n",
            "Epoch 8/10\n",
            "198/198 [==============================] - 9s 47ms/step - loss: 0.3562 - accuracy: 0.8493 - precision: 0.8386 - recall: 0.6136 - f1_score: 0.4599 - val_loss: 0.3814 - val_accuracy: 0.8343 - val_precision: 0.8493 - val_recall: 0.5458 - val_f1_score: 0.4624\n",
            "Epoch 9/10\n",
            "198/198 [==============================] - 9s 47ms/step - loss: 0.3524 - accuracy: 0.8503 - precision: 0.8384 - recall: 0.6178 - f1_score: 0.4599 - val_loss: 0.3606 - val_accuracy: 0.8359 - val_precision: 0.8057 - val_recall: 0.5986 - val_f1_score: 0.4624\n",
            "Epoch 10/10\n",
            "198/198 [==============================] - 9s 48ms/step - loss: 0.3406 - accuracy: 0.8538 - precision: 0.8390 - recall: 0.6316 - f1_score: 0.4599 - val_loss: 0.3477 - val_accuracy: 0.8475 - val_precision: 0.8302 - val_recall: 0.6197 - val_f1_score: 0.4624\n"
          ],
          "name": "stdout"
        }
      ]
    },
    {
      "cell_type": "code",
      "metadata": {
        "id": "8VaYAOX6tHnm"
      },
      "source": [
        "# evaluate the model\n",
        "loss, acc = model.evaluate(X_test, y_test, verbose=0)\n",
        "print('Test Accuracy: %.3f' % acc)"
      ],
      "execution_count": null,
      "outputs": []
    }
  ]
}